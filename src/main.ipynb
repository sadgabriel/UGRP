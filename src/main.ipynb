{
 "cells": [
  {
   "cell_type": "code",
   "execution_count": null,
   "metadata": {},
   "outputs": [],
   "source": [
    "%load_ext autoreload\n",
    "%autoreload 2"
   ]
  },
  {
   "cell_type": "code",
   "execution_count": null,
   "metadata": {},
   "outputs": [],
   "source": [
    "import filter\n",
    "\n",
    "filter.clean_batches()"
   ]
  },
  {
   "cell_type": "code",
   "execution_count": null,
   "metadata": {},
   "outputs": [],
   "source": [
    "import reorganize\n",
    "\n",
    "reorganize.reorganize_batches()"
   ]
  },
  {
   "cell_type": "code",
   "execution_count": null,
   "metadata": {},
   "outputs": [],
   "source": [
    "#setting\n",
    "prompt_style = 'AutoCOT2'\n",
    "data_count = 0\n",
    "example_count = 10\n"
   ]
  },
  {
   "cell_type": "code",
   "execution_count": null,
   "metadata": {},
   "outputs": [],
   "source": [
    "# Configs\n",
    "import config "
   ]
  },
  {
   "cell_type": "code",
   "execution_count": null,
   "metadata": {},
   "outputs": [],
   "source": [
    "# Run generator.js\n",
    "import subprocess\n",
    "\n",
    "params = [\"200\", \"200\"] # Enter the number of data. each prameter indicate the number of small, large map.\n",
    "\n",
    "subprocess.run([\"node\", \"generator.js\"] + params)"
   ]
  },
  {
   "cell_type": "code",
   "execution_count": null,
   "metadata": {},
   "outputs": [],
   "source": [
    "# Run placer.py\n",
    "import placer\n",
    "\n",
    "maps = placer.load_maps()\n",
    "for map in maps:\n",
    "    placer.assign_parameters(map, enemy_density=0.05, cohesion=0.3, treasure_density=0.01, range_multiplier=2, boss=True)\n",
    "    placer.modify_map(map, group_min_dist=10, flag_try_count=50, enemy_sparsity=3)\n",
    "placer.save_maps(maps)"
   ]
  },
  {
   "cell_type": "code",
   "execution_count": null,
   "metadata": {},
   "outputs": [],
   "source": [
    "# Run labeler.py\n",
    "import labeler\n",
    "\n",
    "labeler.label(placed_path=config.PLACED_PATH, labelled_path=config.LABELLED_PATH, file_count=4, difficulty_curve_interval=5)"
   ]
  },
  {
   "cell_type": "code",
   "execution_count": null,
   "metadata": {},
   "outputs": [],
   "source": [
    "import utility\n",
    "import numpy as np\n",
    "\n",
    "param_name_list = [\"map_size\", \"enemy_count\", \"treasure_count\", \"room_count\"]\n",
    "\n",
    "labelled_data_list = utility.load_json_files(config.LABELLED_PATH)\n",
    "\n",
    "mean_dict = dict()\n",
    "std_dict = dict()\n",
    "\n",
    "for param_name in param_name_list:\n",
    "    value_list = np.array([data[\"params\"][param_name] for data in labelled_data_list])\n",
    "    mean_dict[param_name] = np.mean(value_list, axis=0)\n",
    "    std_dict[param_name] = np.std(value_list, axis=0)\n",
    "\n",
    "print(mean_dict)\n",
    "print(std_dict)"
   ]
  },
  {
   "cell_type": "code",
   "execution_count": null,
   "metadata": {},
   "outputs": [],
   "source": [
    "# Generate preprocessed\n",
    "from preprocessed_data_generator import generate_preprocessed_data\n",
    "\n",
    "generate_preprocessed_data(data_count, example_count, prompt_style)"
   ]
  },
  {
   "cell_type": "code",
   "execution_count": null,
   "metadata": {},
   "outputs": [],
   "source": [
    "# Run comparator.py\n",
    "import comparator\n",
    "\n",
    "comparator.compare(preprocessed_path=config.PREPROCESSED_PATH, compared_path=config.COMPARED_PATH, file_count=49)"
   ]
  },
  {
   "cell_type": "code",
   "execution_count": null,
   "metadata": {},
   "outputs": [],
   "source": [
    "# Calculate statistics\n",
    "import statistician\n",
    "\n",
    "diff_param_name_list = [\n",
    "    \"map_size\",\n",
    "    \"room_count\",\n",
    "    \"enemy_count\",\n",
    "    \"treasure_count\",\n",
    "]\n",
    "\n",
    "after_param_name_list = [\"playability\", \"other_ASCII_count\", \"empty_validation\"]\n",
    "\n",
    "abs_diff_mean, abs_diff_std = statistician.calc_abs_diff_mean_std(param_name_list=diff_param_name_list)\n",
    "after_mean, after_std = statistician.calc_after_mean_std(param_name_list=after_param_name_list)"
   ]
  },
  {
   "cell_type": "code",
   "execution_count": null,
   "metadata": {},
   "outputs": [],
   "source": [
    "# Draw Graph\n",
    "mean_dict = abs_diff_mean | after_mean\n",
    "std_dict = abs_diff_std | after_std\n",
    "\n",
    "mean_dict[\"map_width\"] = mean_dict[\"map_size\"][0]\n",
    "mean_dict[\"map_height\"] = mean_dict[\"map_size\"][1]\n",
    "\n",
    "std_dict[\"map_width\"] = std_dict[\"map_size\"][0]\n",
    "std_dict[\"map_height\"] = std_dict[\"map_size\"][1]\n",
    "\n",
    "del mean_dict[\"map_size\"]\n",
    "del std_dict[\"map_size\"]\n",
    "\n",
    "print(mean_dict)\n",
    "print(std_dict)\n",
    "statistician.draw_graph(mean_dict, std_dict)"
   ]
  },
  {
   "cell_type": "code",
   "execution_count": null,
   "metadata": {},
   "outputs": [],
   "source": [
    "import utility\n",
    "from statistician import _calc_abs_diff\n",
    "\n",
    "config = utility.load_config()\n",
    "path = config[\"paths\"][\"compared\"]\n",
    "compared_list = utility.load_json_files(path)\n",
    "diff_param_name_list = [\n",
    "    \"map_size\",\n",
    "    \"room_count\",\n",
    "    \"enemy_count\",\n",
    "    \"treasure_count\",\n",
    "]\n",
    "\n",
    "diff_dict = _calc_abs_diff(compared_list, diff_param_name_list)\n"
   ]
  },
  {
   "cell_type": "code",
   "execution_count": null,
   "metadata": {},
   "outputs": [],
   "source": [
    "import matplotlib.pyplot as plt\n",
    "import numpy as np\n",
    "from scipy.stats import gaussian_kde\n",
    "\n",
    "# KDE 계산 및 그래프 그리기 함수 + 비율별 범위 표시\n",
    "def plot_kde(data, param_name, label):\n",
    "    # 데이터가 1개 이하일 때 KDE 적용 불가 처리\n",
    "    if len(data) <= 1:\n",
    "        print(f\"Not enough data points for KDE for {label} in {param_name}\")\n",
    "        return\n",
    "    \n",
    "    # KDE 계산\n",
    "    kde = gaussian_kde(data)\n",
    "    \n",
    "    # X축 값을 위한 범위 설정\n",
    "    x_vals = np.linspace(min(data), max(data), 1000)\n",
    "    kde_vals = kde(x_vals)\n",
    "\n",
    "    # 최빈값 좌표 찾기\n",
    "    max_idx = np.argmax(kde_vals)  # kde_vals에서 가장 큰 값의 인덱스 찾기\n",
    "    mode_x = x_vals[max_idx]       # 최빈값 x 좌표\n",
    "    mode_y = kde_vals[max_idx]     # 최빈값 y 좌표\n",
    "    \n",
    "    # 최빈값 좌표 출력\n",
    "    print(f\"Mode of {label} in {param_name}: (x: {mode_x}, y: {mode_y})\")\n",
    "    \n",
    "    # 50%, 75%, 90%, 95% 범위 계산\n",
    "    upper_50 = np.percentile(data, 50)\n",
    "    upper_75 = np.percentile(data, 75)\n",
    "    upper_90 = np.percentile(data, 90)\n",
    "    upper_95 = np.percentile(data, 95)\n",
    "    \n",
    "    # 각 범위 출력\n",
    "    print(f\"50% of {label} in {param_name}: upper bound = {upper_50}\")\n",
    "    print(f\"75% of {label} in {param_name}: upper bound = {upper_75}\")\n",
    "    print(f\"90% of {label} in {param_name}: upper bound = {upper_90}\")\n",
    "    print(f\"95% of {label} in {param_name}: upper bound = {upper_95}\")\n",
    "    \n",
    "    # 그래프 그리기\n",
    "    plt.figure(figsize=(8, 6))\n",
    "    plt.plot(x_vals, kde_vals, label=f'KDE of {label}')\n",
    "    plt.fill_between(x_vals, kde_vals, alpha=0.5)\n",
    "\n",
    "    # 최빈값에 빨간 점 표시\n",
    "    plt.plot(mode_x, mode_y, 'ro', label=f'Mode: {mode_x:.2f}')\n",
    "    \n",
    "    # 각 상위 경계선 표시\n",
    "    plt.axvline(upper_50, color='blue', linestyle='--', label='50% bound')\n",
    "    plt.axvline(upper_75, color='green', linestyle='--', label='75% bound')\n",
    "    plt.axvline(upper_90, color='orange', linestyle='--', label='90% bound')\n",
    "    plt.axvline(upper_95, color='purple', linestyle='--', label='95% bound')\n",
    "\n",
    "    plt.title(f'Kernel Density Estimation for {label} in {param_name}')\n",
    "    plt.xlabel(f'{label} Value')\n",
    "    plt.ylabel('Density')\n",
    "    plt.legend()\n",
    "    plt.grid(True)\n",
    "    plt.show()\n",
    "\n",
    "def plot_residual_histogram(diff_dict):\n",
    "    # diff_dict의 모든 파라미터에 대해 잔차 KDE 그리기\n",
    "    for param_name, residuals in diff_dict.items():\n",
    "        if not residuals:\n",
    "            print(f\"No data found for parameter: {param_name}\")\n",
    "            continue  # 빈 데이터는 스킵\n",
    "\n",
    "        # map_size는 [width, height]의 2차원 배열이므로 각각 따로 계산\n",
    "        if param_name == \"map_size\":\n",
    "            widths = np.array([size[0] for size in residuals])\n",
    "            heights = np.array([size[1] for size in residuals])\n",
    "            \n",
    "            # Width에 대한 KDE 그리기\n",
    "            plot_kde(widths, param_name, \"Width\")\n",
    "            \n",
    "            # Height에 대한 KDE 그리기\n",
    "            plot_kde(heights, param_name, \"Height\")\n",
    "        else:\n",
    "            # 나머지 파라미터들은 1차원 배열 그대로 사용\n",
    "            residuals = np.array(residuals).flatten()\n",
    "\n",
    "            # 나머지 파라미터에 대한 KDE 그리기\n",
    "            plot_kde(residuals, param_name, param_name)\n",
    "\n",
    "# 예시: diff_dict의 모든 파라미터에 대해 KDE 플롯 그리기\n",
    "plot_residual_histogram(diff_dict)\n"
   ]
  },
  {
   "cell_type": "code",
   "execution_count": null,
   "metadata": {},
   "outputs": [],
   "source": [
    "# Calculate novelty and diversity\n",
    "novelty = statistician.calc_novelty()\n",
    "print(novelty)"
   ]
  },
  {
   "cell_type": "code",
   "execution_count": null,
   "metadata": {},
   "outputs": [],
   "source": [
    "# Calculate diversity\n",
    "diversity = statistician.calc_diversity()\n",
    "print(diversity)"
   ]
  },
  {
   "cell_type": "code",
   "execution_count": null,
   "metadata": {},
   "outputs": [],
   "source": [
    "import labeler\n",
    "\n",
    "data_list= labeler.load_folder(path=config.PREPROCESSED_PATH, file_count=84)\n",
    "data_count = 0\n",
    "\n",
    "for i, data_i in enumerate(data_list):\n",
    "    data_count += len(data_i[\"map_list\"])\n",
    "\n",
    "print(data_count)"
   ]
  }
 ],
 "metadata": {
  "kernelspec": {
   "display_name": "ugrp_env",
   "language": "python",
   "name": "python3"
  },
  "language_info": {
   "codemirror_mode": {
    "name": "ipython",
    "version": 3
   },
   "file_extension": ".py",
   "mimetype": "text/x-python",
   "name": "python",
   "nbconvert_exporter": "python",
   "pygments_lexer": "ipython3",
   "version": "3.10.14"
  }
 },
 "nbformat": 4,
 "nbformat_minor": 2
}
