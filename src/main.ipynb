{
 "cells": [
  {
   "cell_type": "code",
   "execution_count": 49,
   "metadata": {},
   "outputs": [
    {
     "data": {
      "text/plain": [
       "CompletedProcess(args=['node', 'generator.js', '200', '200'], returncode=0)"
      ]
     },
     "execution_count": 49,
     "metadata": {},
     "output_type": "execute_result"
    }
   ],
   "source": [
    "# Run generator.js\n",
    "import subprocess\n",
    "\n",
    "params = [\"200\", \"200\"] # Enter the number of data. each prameter indicate the number of small, large map.\n",
    "\n",
    "subprocess.run([\"node\", \"generator.js\"] + params)"
   ]
  },
  {
   "cell_type": "code",
   "execution_count": 50,
   "metadata": {},
   "outputs": [],
   "source": [
    "# Run placer.py\n",
    "import placer\n",
    "\n",
    "maps = placer.load_maps()\n",
    "for map in maps:\n",
    "    placer.assign_parameters(map, enemy_density=0.05, cohesion=0.3, reward_density=0.01, range_multiplier=2, boss=True)\n",
    "    placer.modify_map(map, group_min_dist=10, flag_try_count=50, enemy_sparsity=3)\n",
    "placer.save_maps(maps)"
   ]
  },
  {
   "cell_type": "code",
   "execution_count": 51,
   "metadata": {},
   "outputs": [],
   "source": [
    "# Run labeler.py\n",
    "import labeler\n",
    "\n",
    "labeler.label(file_num=1, difficulty_curve_interval=5)"
   ]
  },
  {
   "cell_type": "code",
   "execution_count": 52,
   "metadata": {},
   "outputs": [
    {
     "ename": "FileNotFoundError",
     "evalue": "[Errno 2] No such file or directory: '../data/4. prompt/base_prompt/AutoCOT1.txt'",
     "output_type": "error",
     "traceback": [
      "\u001b[0;31m---------------------------------------------------------------------------\u001b[0m",
      "\u001b[0;31mFileNotFoundError\u001b[0m                         Traceback (most recent call last)",
      "Cell \u001b[0;32mIn[52], line 5\u001b[0m\n\u001b[1;32m      2\u001b[0m \u001b[38;5;28;01mimport\u001b[39;00m \u001b[38;5;21;01mjson_creator\u001b[39;00m\n\u001b[1;32m      3\u001b[0m \u001b[38;5;28;01mfrom\u001b[39;00m \u001b[38;5;21;01mconfig\u001b[39;00m \u001b[38;5;28;01mimport\u001b[39;00m base_prompt_path, json_base_prompt_path\n\u001b[0;32m----> 5\u001b[0m \u001b[43mjson_creator\u001b[49m\u001b[38;5;241;43m.\u001b[39;49m\u001b[43mprompt_data_to_json\u001b[49m\u001b[43m(\u001b[49m\u001b[43mbase_prompt_path\u001b[49m\u001b[43m,\u001b[49m\u001b[43m \u001b[49m\u001b[43mjson_base_prompt_path\u001b[49m\u001b[43m)\u001b[49m\n",
      "File \u001b[0;32m~/Files/Project/UGRP/src/json_creator.py:20\u001b[0m, in \u001b[0;36mprompt_data_to_json\u001b[0;34m(input_path, output_path)\u001b[0m\n\u001b[1;32m     18\u001b[0m \u001b[38;5;28;01mdef\u001b[39;00m \u001b[38;5;21mprompt_data_to_json\u001b[39m(input_path: \u001b[38;5;28mstr\u001b[39m, output_path: \u001b[38;5;28mstr\u001b[39m) \u001b[38;5;241m-\u001b[39m\u001b[38;5;241m>\u001b[39m \u001b[38;5;28;01mNone\u001b[39;00m:\n\u001b[0;32m---> 20\u001b[0m     \u001b[38;5;28;01mwith\u001b[39;00m \u001b[38;5;28;43mopen\u001b[39;49m\u001b[43m(\u001b[49m\u001b[43minput_path\u001b[49m\u001b[43m,\u001b[49m\u001b[43m \u001b[49m\u001b[38;5;124;43m'\u001b[39;49m\u001b[38;5;124;43mr\u001b[39;49m\u001b[38;5;124;43m'\u001b[39;49m\u001b[43m)\u001b[49m \u001b[38;5;28;01mas\u001b[39;00m file:\n\u001b[1;32m     21\u001b[0m         content \u001b[38;5;241m=\u001b[39m file\u001b[38;5;241m.\u001b[39mread()\n\u001b[1;32m     23\u001b[0m     start_prompt, end_prompt \u001b[38;5;241m=\u001b[39m split_prompts(content)\n",
      "\u001b[0;31mFileNotFoundError\u001b[0m: [Errno 2] No such file or directory: '../data/4. prompt/base_prompt/AutoCOT1.txt'"
     ]
    }
   ],
   "source": [
    "# Create json file from base prompt\n",
    "import json_creator\n",
    "from config import base_prompt_path, json_base_prompt_path\n",
    "\n",
    "json_creator.prompt_data_to_json(base_prompt_path, json_base_prompt_path)"
   ]
  },
  {
   "cell_type": "code",
   "execution_count": null,
   "metadata": {},
   "outputs": [],
   "source": [
    "# Generate prompt\n",
    "subprocess.run([\"python\", \"prompt_generator.py\"])"
   ]
  },
  {
   "cell_type": "code",
   "execution_count": null,
   "metadata": {},
   "outputs": [],
   "source": [
    "# Preprocess\n",
    "subprocess.run([\"python\", \"preprocesser.py\"])"
   ]
  },
  {
   "cell_type": "code",
   "execution_count": 58,
   "metadata": {},
   "outputs": [],
   "source": [
    "# Run comparator.py\n",
    "import comparator\n",
    "\n",
    "comparator.compare(file_num=1)"
   ]
  },
  {
   "cell_type": "code",
   "execution_count": 59,
   "metadata": {},
   "outputs": [],
   "source": [
    "# Get compared file\n",
    "import os\n",
    "import json\n",
    "\n",
    "path = os.path.join(os.path.dirname(os.getcwd()), \"data\", \"6. compared\")\n",
    "\n",
    "filename_list = [\n",
    "    filename\n",
    "    for filename in os.listdir(path)\n",
    "    if filename.endswith(\".json\") and os.path.isfile(os.path.join(path, filename))\n",
    "]\n",
    "\n",
    "path_list = [os.path.join(path, filename) for filename in filename_list]\n",
    "\n",
    "compared_list = list()\n",
    "for file_path in path_list:\n",
    "    with open(file_path, \"r\") as file:\n",
    "        compared_batch = json.load(file)\n",
    "        for compared in compared_batch[\"map_list\"]:\n",
    "            compared_list.append(compared)"
   ]
  },
  {
   "cell_type": "code",
   "execution_count": 60,
   "metadata": {},
   "outputs": [],
   "source": [
    "# Calculate difference\n",
    "diff_dict = dict()\n",
    "\n",
    "params = [\n",
    "    \"map_size\",\n",
    "    \"density\",\n",
    "    \"empty_ratio\",\n",
    "    \"exploration_requirement\",\n",
    "    \"difficulty_curve\",\n",
    "    \"nonlinearity\"\n",
    "]\n",
    "\n",
    "for param in params:\n",
    "    diff_dict[param] = list()\n",
    "\n",
    "for compared in compared_list:\n",
    "    for param in params:\n",
    "        try:\n",
    "            diff_dict[param].append([abs(float(compared[\"after_params\"][param][i]) - float(compared[\"before_params\"][param][i])) for i in range(len(compared[\"after_params\"][param]))])\n",
    "        except:\n",
    "            diff_dict[param].append(abs(float(compared[\"after_params\"][param]) - float(compared[\"before_params\"][param])))"
   ]
  },
  {
   "cell_type": "code",
   "execution_count": 64,
   "metadata": {},
   "outputs": [],
   "source": [
    "# Calculate mean and standard deviation\n",
    "import numpy as np\n",
    "\n",
    "mean_dict = dict()\n",
    "std_dict = dict()\n",
    "\n",
    "for param in params:\n",
    "    try:\n",
    "        mean_dict[param] = np.mean(np.array(diff_dict[param]), axis=0)\n",
    "        std_dict[param] = np.std(np.array(diff_dict[param]), axis=0)\n",
    "    except:\n",
    "        mean_dict[param] = np.mean(diff_dict[param])\n",
    "        std_dict[param] = np.std(diff_dict[param])"
   ]
  },
  {
   "cell_type": "code",
   "execution_count": 65,
   "metadata": {},
   "outputs": [
    {
     "name": "stdout",
     "output_type": "stream",
     "text": [
      "{'map_size': array([ 6., 12.]), 'density': 0.006013016411997734, 'empty_ratio': 0.0388605923410677, 'exploration_requirement': 239.0, 'difficulty_curve': 0.16666666666666666, 'nonlinearity': 0.03187762792432691}\n",
      "{'map_size': array([0., 0.]), 'density': 0.0, 'empty_ratio': 0.0, 'exploration_requirement': 0.0, 'difficulty_curve': 0.0, 'nonlinearity': 0.0}\n"
     ]
    }
   ],
   "source": [
    "# Print mean and standard deviation\n",
    "print(mean_dict)\n",
    "print(std_dict)"
   ]
  }
 ],
 "metadata": {
  "kernelspec": {
   "display_name": "ugrp_env",
   "language": "python",
   "name": "python3"
  },
  "language_info": {
   "codemirror_mode": {
    "name": "ipython",
    "version": 3
   },
   "file_extension": ".py",
   "mimetype": "text/x-python",
   "name": "python",
   "nbconvert_exporter": "python",
   "pygments_lexer": "ipython3",
   "version": "3.10.14"
  }
 },
 "nbformat": 4,
 "nbformat_minor": 2
}
