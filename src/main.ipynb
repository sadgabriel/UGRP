{
 "cells": [
  {
   "cell_type": "code",
   "execution_count": 1,
   "metadata": {
    "ExecuteTime": {
     "end_time": "2024-08-08T06:05:31.810630Z",
     "start_time": "2024-08-08T06:05:31.793891300Z"
    }
   },
   "outputs": [],
   "source": [
    "%load_ext autoreload\n",
    "%autoreload 2"
   ]
  },
  {
   "cell_type": "code",
   "execution_count": null,
   "metadata": {
    "collapsed": false
   },
   "outputs": [],
   "source": [
    "#setting\n",
    "PROMPT_STYLE = 'AutoCOT1'\n",
    "DATA_COUNT = 1\n",
    "EXAMPLE_COUNT = 10"
   ]
  },
  {
   "cell_type": "code",
   "execution_count": 2,
   "metadata": {
    "ExecuteTime": {
     "end_time": "2024-08-08T06:05:33.974893100Z",
     "start_time": "2024-08-08T06:05:33.960373500Z"
    },
    "collapsed": false
   },
   "outputs": [],
   "source": [
    "# Configs\n",
    "RAW_PATH = '../data/1. raw/'\n",
    "PLACED_PATH = '../data/2. placed/'\n",
    "LABELED_PATH = '../data/3. labelled/'\n",
    "PROMPT_PATH = '../data/4. prompt/'\n",
    "PREPROCESSED_PATH = '../data/5. preprocessed/'\n",
    "COMPARED_PATH = '../data/6. compared/'\n",
    "\n",
    "BASE_PROMPT_FILE_PATH = f'/base_prompt/{PROMPT_STYLE}.txt'\n",
    "PROMPT_FILE_PATH = PROMPT_PATH + f'{PROMPT_STYLE}.txt'\n",
    "unstructured_data_path = PREPROCESSED_PATH + f'unstructured_data/{PROMPT_STYLE}.txt'"
   ]
  },
  {
   "cell_type": "code",
   "execution_count": 3,
   "metadata": {
    "ExecuteTime": {
     "end_time": "2024-08-08T06:05:34.699254400Z",
     "start_time": "2024-08-08T06:05:34.629435Z"
    }
   },
   "outputs": [
    {
     "data": {
      "text/plain": [
       "CompletedProcess(args=['node', 'generator.js', '200', '200'], returncode=0)"
      ]
     },
     "execution_count": 3,
     "metadata": {},
     "output_type": "execute_result"
    }
   ],
   "source": [
    "# Run generator.js\n",
    "import subprocess\n",
    "\n",
    "params = [\"200\", \"200\"] # Enter the number of data. each prameter indicate the number of small, large map.\n",
    "\n",
    "subprocess.run([\"node\", \"generator.js\"] + params)"
   ]
  },
  {
   "cell_type": "code",
   "execution_count": 4,
   "metadata": {
    "ExecuteTime": {
     "end_time": "2024-08-08T06:05:36.665187100Z",
     "start_time": "2024-08-08T06:05:36.517626300Z"
    }
   },
   "outputs": [],
   "source": [
    "# Run placer.py\n",
    "import placer\n",
    "\n",
    "maps = placer.load_maps(path=RAW_PATH)\n",
    "for map in maps:\n",
    "    placer.assign_parameters(map, enemy_density=0.05, cohesion=0.3, reward_density=0.01, range_multiplier=2, boss=True)\n",
    "    placer.modify_map(map, group_min_dist=10, flag_try_count=50, enemy_sparsity=3)\n",
    "placer.save_maps(maps, path=PLACED_PATH)"
   ]
  },
  {
   "cell_type": "code",
   "execution_count": 5,
   "metadata": {
    "ExecuteTime": {
     "end_time": "2024-08-08T06:05:37.727761600Z",
     "start_time": "2024-08-08T06:05:37.397712900Z"
    }
   },
   "outputs": [
    {
     "ename": "TypeError",
     "evalue": "label() got an unexpected keyword argument 'file_num'",
     "output_type": "error",
     "traceback": [
      "\u001b[1;31m---------------------------------------------------------------------------\u001b[0m",
      "\u001b[1;31mTypeError\u001b[0m                                 Traceback (most recent call last)",
      "Cell \u001b[1;32mIn[5], line 4\u001b[0m\n\u001b[0;32m      1\u001b[0m \u001b[38;5;66;03m# Run labeler.py\u001b[39;00m\n\u001b[0;32m      2\u001b[0m \u001b[38;5;28;01mimport\u001b[39;00m \u001b[38;5;21;01mlabeler\u001b[39;00m\n\u001b[1;32m----> 4\u001b[0m \u001b[43mlabeler\u001b[49m\u001b[38;5;241;43m.\u001b[39;49m\u001b[43mlabel\u001b[49m\u001b[43m(\u001b[49m\u001b[43mfile_num\u001b[49m\u001b[38;5;241;43m=\u001b[39;49m\u001b[38;5;241;43m4\u001b[39;49m\u001b[43m,\u001b[49m\u001b[43m \u001b[49m\u001b[43mdifficulty_curve_interval\u001b[49m\u001b[38;5;241;43m=\u001b[39;49m\u001b[38;5;241;43m5\u001b[39;49m\u001b[43m)\u001b[49m\n",
      "\u001b[1;31mTypeError\u001b[0m: label() got an unexpected keyword argument 'file_num'"
     ]
    }
   ],
   "source": [
    "# Run labeler.py\n",
    "import labeler\n",
    "\n",
    "labeler.label(file_count=4, difficulty_curve_interval=5)"
   ]
  },
  {
   "cell_type": "code",
   "execution_count": null,
   "metadata": {
    "ExecuteTime": {
     "end_time": "2024-08-08T06:05:39.063568700Z",
     "start_time": "2024-08-08T06:05:38.445246200Z"
    }
   },
   "outputs": [
    {
     "name": "stdout",
     "output_type": "stream",
     "text": [
      "find_final_map_keyword - Keyword positions: [94]\n",
      "is_ascii_art_line - Line to check: 'Final ASCII Map' Result: False\n",
      "is_ascii_art_line - Line to check: '####################' Result: True\n",
      "is_ascii_art_line - Line to check: '#..B...#......#...#' Result: True\n",
      "is_ascii_art_line - Line to check: '#......#......#...#' Result: True\n",
      "is_ascii_art_line - Line to check: '####################' Result: True\n",
      "is_ascii_art_line - Line to check: '#......#...R..#...#' Result: True\n",
      "is_ascii_art_line - Line to check: '#......#......#...#' Result: True\n",
      "is_ascii_art_line - Line to check: '#......#......#...#' Result: True\n",
      "is_ascii_art_line - Line to check: '######/######/#####' Result: True\n",
      "is_ascii_art_line - Line to check: '#......#......#...#' Result: True\n",
      "is_ascii_art_line - Line to check: '#......#......#...#' Result: True\n",
      "is_ascii_art_line - Line to check: '####################' Result: True\n",
      "is_ascii_art_line - Line to check: '#......#......#...#' Result: True\n",
      "is_ascii_art_line - Line to check: '#......#..E...#...#' Result: True\n",
      "is_ascii_art_line - Line to check: '#......#......#...#' Result: True\n",
      "is_ascii_art_line - Line to check: '######/######/#####' Result: True\n",
      "is_ascii_art_line - Line to check: '#......#......#...#' Result: True\n",
      "is_ascii_art_line - Line to check: '#..P...#......#..E#' Result: True\n",
      "is_ascii_art_line - Line to check: '#......#......#...#' Result: True\n",
      "is_ascii_art_line - Line to check: '####################' Result: True\n",
      "is_ascii_art_line - Line to check: '코드 복사' Result: False\n",
      "extract_ascii_art_map - Start index: 75, End index: 93\n",
      "####################\n",
      "#......#......#...#\n",
      "#..P...#......#..E#\n",
      "#......#......#...#\n",
      "######/######/#####\n",
      "#......#......#...#\n",
      "#......#..E...#...#\n",
      "#......#......#...#\n",
      "####################\n",
      "#......#......#...#\n",
      "#......#......#...#\n",
      "######/######/#####\n",
      "#......#......#...#\n",
      "#......#......#...#\n",
      "#......#...R..#...#\n",
      "####################\n",
      "#......#......#...#\n",
      "#..B...#......#...#\n",
      "####################\n",
      "ppdg start\n",
      "Complete prompt saved to ../data/4. prompt/AutoCOT1.txt\n",
      "find_final_map_keyword - Keyword positions: [94]\n",
      "is_ascii_art_line - Line to check: 'Final ASCII Map' Result: False\n",
      "is_ascii_art_line - Line to check: '####################' Result: True\n",
      "is_ascii_art_line - Line to check: '#..B...#......#...#' Result: True\n",
      "is_ascii_art_line - Line to check: '#......#......#...#' Result: True\n",
      "is_ascii_art_line - Line to check: '####################' Result: True\n",
      "is_ascii_art_line - Line to check: '#......#...R..#...#' Result: True\n",
      "is_ascii_art_line - Line to check: '#......#......#...#' Result: True\n",
      "is_ascii_art_line - Line to check: '#......#......#...#' Result: True\n",
      "is_ascii_art_line - Line to check: '######/######/#####' Result: True\n",
      "is_ascii_art_line - Line to check: '#......#......#...#' Result: True\n",
      "is_ascii_art_line - Line to check: '#......#......#...#' Result: True\n",
      "is_ascii_art_line - Line to check: '####################' Result: True\n",
      "is_ascii_art_line - Line to check: '#......#......#...#' Result: True\n",
      "is_ascii_art_line - Line to check: '#......#..E...#...#' Result: True\n",
      "is_ascii_art_line - Line to check: '#......#......#...#' Result: True\n",
      "is_ascii_art_line - Line to check: '######/######/#####' Result: True\n",
      "is_ascii_art_line - Line to check: '#......#......#...#' Result: True\n",
      "is_ascii_art_line - Line to check: '#..P...#......#..E#' Result: True\n",
      "is_ascii_art_line - Line to check: '#......#......#...#' Result: True\n",
      "is_ascii_art_line - Line to check: '####################' Result: True\n",
      "is_ascii_art_line - Line to check: '코드 복사' Result: False\n",
      "extract_ascii_art_map - Start index: 75, End index: 93\n",
      "####################\n",
      "#......#......#...#\n",
      "#..P...#......#..E#\n",
      "#......#......#...#\n",
      "######/######/#####\n",
      "#......#......#...#\n",
      "#......#..E...#...#\n",
      "#......#......#...#\n",
      "####################\n",
      "#......#......#...#\n",
      "#......#......#...#\n",
      "######/######/#####\n",
      "#......#......#...#\n",
      "#......#......#...#\n",
      "#......#...R..#...#\n",
      "####################\n",
      "#......#......#...#\n",
      "#..B...#......#...#\n",
      "####################\n",
      "{'map_list': [{'params': {'MAP_SIZE': [20, 20], 'ROOM_COUNT': 7, 'ENEMY_COUNT': 2, 'TREASURE_COUNT': 1}, 'map': '####################\\n#......#......#...#\\n#..P...#......#..E#\\n#......#......#...#\\n######/######/#####\\n#......#......#...#\\n#......#..E...#...#\\n#......#......#...#\\n####################\\n#......#......#...#\\n#......#......#...#\\n######/######/#####\\n#......#......#...#\\n#......#......#...#\\n#......#...R..#...#\\n####################\\n#......#......#...#\\n#..B...#......#...#\\n####################'}]}\n",
      "sucessly saved ../data/5. preprocessed/_batch0.json\n"
     ]
    }
   ],
   "source": [
    "# Generate preprocessed\n",
    "from preprocessed_data_generator import preprocessed_data_generator\n",
    "\n",
    "preprocessed_data_generator(DATA_COUNT, EXAMPLE_COUNT, PREPROCESSED_PATH, BASE_PROMPT_FILE_PATH, LABELED_PATH, PROMPT_FILE_PATH)\n",
    "\n",
    "\n"
   ]
  },
  {
   "cell_type": "code",
   "execution_count": null,
   "metadata": {
    "ExecuteTime": {
     "end_time": "2024-08-08T05:54:57.560132800Z",
     "start_time": "2024-08-08T05:54:57.544656500Z"
    }
   },
   "outputs": [
    {
     "ename": "NameError",
     "evalue": "name 'preprocessed_path' is not defined",
     "output_type": "error",
     "traceback": [
      "\u001b[1;31m---------------------------------------------------------------------------\u001b[0m",
      "\u001b[1;31mNameError\u001b[0m                                 Traceback (most recent call last)",
      "Cell \u001b[1;32mIn[12], line 4\u001b[0m\n\u001b[0;32m      1\u001b[0m \u001b[38;5;66;03m# Run comparator.py\u001b[39;00m\n\u001b[0;32m      2\u001b[0m \u001b[38;5;28;01mimport\u001b[39;00m \u001b[38;5;21;01mcomparator\u001b[39;00m\n\u001b[1;32m----> 4\u001b[0m comparator\u001b[38;5;241m.\u001b[39mcompare(preprocessed_path\u001b[38;5;241m=\u001b[39m\u001b[43mpreprocessed_path\u001b[49m, compared_path\u001b[38;5;241m=\u001b[39mcompared_path, file_num\u001b[38;5;241m=\u001b[39m\u001b[38;5;241m1\u001b[39m)\n",
      "\u001b[1;31mNameError\u001b[0m: name 'preprocessed_path' is not defined"
     ]
    }
   ],
   "source": [
    "# Run comparator.py\n",
    "import comparator\n",
    "\n",
    "comparator.compare(preprocessed_path=PREPROCESSED_PATH, compared_path=COMPARED_PATH, file_count=1)"
   ]
  },
  {
   "cell_type": "code",
   "execution_count": null,
   "metadata": {},
   "outputs": [],
   "source": [
    "# Get compared file\n",
    "import os\n",
    "import json\n",
    "\n",
    "path = os.path.join(COMPARED_PATH)\n",
    "\n",
    "filename_list = [\n",
    "    filename\n",
    "    for filename in os.listdir(path)\n",
    "    if filename.endswith(\".json\") and os.path.isfile(os.path.join(path, filename))\n",
    "]\n",
    "\n",
    "path_list = [os.path.join(path, filename) for filename in filename_list]\n",
    "\n",
    "compared_list = list()\n",
    "for file_path in path_list:\n",
    "    with open(file_path, \"r\") as file:\n",
    "        compared_batch = json.load(file)\n",
    "        for compared in compared_batch[\"map_list\"]:\n",
    "            compared_list.append(compared)"
   ]
  },
  {
   "cell_type": "code",
   "execution_count": null,
   "metadata": {},
   "outputs": [],
   "source": [
    "# Calculate difference\n",
    "diff_dict = dict()\n",
    "\n",
    "params = [\n",
    "    \"map_size\",\n",
    "    \"room_count\",\n",
    "    \"enemy_count\",\n",
    "    \"treasure_count\"\n",
    "]\n",
    "\n",
    "for param in params:\n",
    "    diff_dict[param] = list()\n",
    "\n",
    "for compared in compared_list:\n",
    "    for param in params:\n",
    "        try:\n",
    "            diff_dict[param].append([abs(float(compared[\"after_params\"][param][i]) - float(compared[\"before_params\"][param][i])) for i in range(len(compared[\"after_params\"][param]))])\n",
    "        except:\n",
    "            diff_dict[param].append(abs(float(compared[\"after_params\"][param]) - float(compared[\"before_params\"][param])))"
   ]
  },
  {
   "cell_type": "code",
   "execution_count": null,
   "metadata": {},
   "outputs": [
    {
     "ename": "KeyError",
     "evalue": "'MAP_SIZE'",
     "output_type": "error",
     "traceback": [
      "\u001b[1;31m---------------------------------------------------------------------------\u001b[0m",
      "\u001b[1;31mKeyError\u001b[0m                                  Traceback (most recent call last)",
      "Cell \u001b[1;32mIn[22], line 9\u001b[0m\n\u001b[0;32m      8\u001b[0m \u001b[38;5;28;01mtry\u001b[39;00m:\n\u001b[1;32m----> 9\u001b[0m     mean_dict[param] \u001b[38;5;241m=\u001b[39m np\u001b[38;5;241m.\u001b[39mmean(np\u001b[38;5;241m.\u001b[39marray(\u001b[43mdiff_dict\u001b[49m\u001b[43m[\u001b[49m\u001b[43mparam\u001b[49m\u001b[43m]\u001b[49m), axis\u001b[38;5;241m=\u001b[39m\u001b[38;5;241m0\u001b[39m)\n\u001b[0;32m     10\u001b[0m     std_dict[param] \u001b[38;5;241m=\u001b[39m np\u001b[38;5;241m.\u001b[39mstd(np\u001b[38;5;241m.\u001b[39marray(diff_dict[param]), axis\u001b[38;5;241m=\u001b[39m\u001b[38;5;241m0\u001b[39m)\n",
      "\u001b[1;31mKeyError\u001b[0m: 'MAP_SIZE'",
      "\nDuring handling of the above exception, another exception occurred:\n",
      "\u001b[1;31mKeyError\u001b[0m                                  Traceback (most recent call last)",
      "Cell \u001b[1;32mIn[22], line 12\u001b[0m\n\u001b[0;32m     10\u001b[0m     std_dict[param] \u001b[38;5;241m=\u001b[39m np\u001b[38;5;241m.\u001b[39mstd(np\u001b[38;5;241m.\u001b[39marray(diff_dict[param]), axis\u001b[38;5;241m=\u001b[39m\u001b[38;5;241m0\u001b[39m)\n\u001b[0;32m     11\u001b[0m \u001b[38;5;28;01mexcept\u001b[39;00m:\n\u001b[1;32m---> 12\u001b[0m     mean_dict[param] \u001b[38;5;241m=\u001b[39m np\u001b[38;5;241m.\u001b[39mmean(\u001b[43mdiff_dict\u001b[49m\u001b[43m[\u001b[49m\u001b[43mparam\u001b[49m\u001b[43m]\u001b[49m)\n\u001b[0;32m     13\u001b[0m     std_dict[param] \u001b[38;5;241m=\u001b[39m np\u001b[38;5;241m.\u001b[39mstd(diff_dict[param])\n",
      "\u001b[1;31mKeyError\u001b[0m: 'MAP_SIZE'"
     ]
    }
   ],
   "source": [
    "# Calculate mean and standard deviation\n",
    "import numpy as np\n",
    "\n",
    "mean_dict = dict()\n",
    "std_dict = dict()\n",
    "\n",
    "for param in params:\n",
    "    try:\n",
    "        mean_dict[param] = np.mean(np.array(diff_dict[param]), axis=0)\n",
    "        std_dict[param] = np.std(np.array(diff_dict[param]), axis=0)\n",
    "    except:\n",
    "        mean_dict[param] = np.mean(diff_dict[param])\n",
    "        std_dict[param] = np.std(diff_dict[param])"
   ]
  },
  {
   "cell_type": "code",
   "execution_count": null,
   "metadata": {},
   "outputs": [
    {
     "name": "stdout",
     "output_type": "stream",
     "text": [
      "{'map_size': array([11., 11.]), 'density': 0.004152762328513162, 'empty_ratio': 0.09090347299468543, 'exploration_requirement': 29.0, 'difficulty_curve': 0.0, 'nonlinearity': 0.21704750661510275}\n",
      "{'map_size': array([0., 0.]), 'density': 0.0, 'empty_ratio': 0.0, 'exploration_requirement': 0.0, 'difficulty_curve': 0.0, 'nonlinearity': 0.0}\n"
     ]
    }
   ],
   "source": [
    "# Print mean and standard deviation\n",
    "print(mean_dict)\n",
    "print(std_dict)"
   ]
  },
  {
   "cell_type": "code",
   "execution_count": null,
   "metadata": {},
   "outputs": [],
   "source": [
    "# Calculate playability\n",
    "\n",
    "playability_list = list()\n",
    "for i in range(len(compared_list)):\n",
    "    playability_list.append(compared_list[i][\"after_params\"][\"playability\"])\n",
    "\n",
    "playability_mean = np.mean(playability_list)"
   ]
  },
  {
   "cell_type": "code",
   "execution_count": null,
   "metadata": {},
   "outputs": [],
   "source": [
    "# Print playability\n",
    "print(playability_mean)"
   ]
  }
 ],
 "metadata": {
  "kernelspec": {
   "display_name": "ugrp_env",
   "language": "python",
   "name": "python3"
  },
  "language_info": {
   "codemirror_mode": {
    "name": "ipython",
    "version": 3
   },
   "file_extension": ".py",
   "mimetype": "text/x-python",
   "name": "python",
   "nbconvert_exporter": "python",
   "pygments_lexer": "ipython3",
   "version": "3.11.5"
  }
 },
 "nbformat": 4,
 "nbformat_minor": 2
}
