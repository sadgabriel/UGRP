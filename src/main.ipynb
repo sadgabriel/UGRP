{
 "cells": [
  {
   "cell_type": "code",
   "execution_count": null,
   "id": "0",
   "metadata": {},
   "outputs": [],
   "source": [
    "from season1.utility import load_config\n",
    "\n",
    "config = load_config()\n",
    "goal_params_path = \"../data/test/\""
   ]
  },
  {
   "cell_type": "code",
   "execution_count": null,
   "id": "1",
   "metadata": {},
   "outputs": [],
   "source": [
    "data_count = 1\n",
    "example_count = 10\n",
    "prompt_style = \"AutoCOT1\""
   ]
  },
  {
   "cell_type": "code",
   "execution_count": null,
   "id": "2",
   "metadata": {},
   "outputs": [],
   "source": [
    "from season1.preprocessed_data_generator import generate_preprocessed_data\n",
    "from season1.utility import load_params_list_from_files\n",
    "\n",
    "params_list = load_params_list_from_files(goal_params_path)\n",
    "print(params_list)\n",
    "\n",
    "for goal_params in params_list:\n",
    "    generate_preprocessed_data(data_count, example_count, prompt_style, params_list)\n",
    "\n"
   ]
  },
  {
   "cell_type": "code",
   "execution_count": null,
   "id": "3",
   "metadata": {},
   "outputs": [],
   "source": [
    "from repeator import repeat_process\n",
    "\n",
    "repeat_process(data_count, prompt_style)"
   ]
  },
  {
   "cell_type": "code",
   "execution_count": null,
   "id": "4",
   "metadata": {},
   "outputs": [],
   "source": []
  }
 ],
 "metadata": {
  "kernelspec": {
   "display_name": "Python 3",
   "language": "python",
   "name": "python3"
  },
  "language_info": {
   "codemirror_mode": {
    "name": "ipython",
    "version": 2
   },
   "file_extension": ".py",
   "mimetype": "text/x-python",
   "name": "python",
   "nbconvert_exporter": "python",
   "pygments_lexer": "ipython2",
   "version": "2.7.6"
  }
 },
 "nbformat": 4,
 "nbformat_minor": 5
}
