{
 "cells": [
  {
   "cell_type": "code",
   "execution_count": 7,
   "metadata": {
    "ExecuteTime": {
     "end_time": "2024-08-08T06:05:31.810630Z",
     "start_time": "2024-08-08T06:05:31.793891300Z"
    }
   },
   "outputs": [
    {
     "name": "stdout",
     "output_type": "stream",
     "text": [
      "The autoreload extension is already loaded. To reload it, use:\n",
      "  %reload_ext autoreload\n"
     ]
    }
   ],
   "source": [
    "%load_ext autoreload\n",
    "%autoreload 2"
   ]
  },
  {
   "cell_type": "code",
   "execution_count": 1,
   "metadata": {
    "collapsed": false
   },
   "outputs": [],
   "source": [
    "#setting\n",
    "PROMPT_STYLE = 'AutoCOT1'\n",
    "DATA_COUNT = 1\n",
    "EXAMPLE_COUNT = 10"
   ]
  },
  {
   "cell_type": "code",
   "execution_count": 2,
   "metadata": {
    "ExecuteTime": {
     "end_time": "2024-08-08T06:05:33.974893100Z",
     "start_time": "2024-08-08T06:05:33.960373500Z"
    },
    "collapsed": false
   },
   "outputs": [],
   "source": [
    "# Configs\n",
    "RAW_PATH = '../data/1. raw/'\n",
    "PLACED_PATH = '../data/2. placed/'\n",
    "LABELED_PATH = '../data/3. labelled/'\n",
    "PROMPT_PATH = '../data/4. prompt/'\n",
    "PREPROCESSED_PATH = '../data/5. preprocessed/'\n",
    "COMPARED_PATH = '../data/6. compared/'\n",
    "\n",
    "BASE_PROMPT_FILE_PATH = f'./base_prompt/{PROMPT_STYLE}.txt'\n",
    "PROMPT_FILE_PATH = PROMPT_PATH + f'{PROMPT_STYLE}.txt'"
   ]
  },
  {
   "cell_type": "code",
   "execution_count": 3,
   "metadata": {
    "ExecuteTime": {
     "end_time": "2024-08-08T06:05:34.699254400Z",
     "start_time": "2024-08-08T06:05:34.629435Z"
    }
   },
   "outputs": [
    {
     "data": {
      "text/plain": [
       "CompletedProcess(args=['node', 'generator.js', '200', '200'], returncode=0)"
      ]
     },
     "execution_count": 3,
     "metadata": {},
     "output_type": "execute_result"
    }
   ],
   "source": [
    "# Run generator.js\n",
    "import subprocess\n",
    "\n",
    "params = [\"200\", \"200\"] # Enter the number of data. each prameter indicate the number of small, large map.\n",
    "\n",
    "subprocess.run([\"node\", \"generator.js\"] + params)"
   ]
  },
  {
   "cell_type": "code",
   "execution_count": 4,
   "metadata": {
    "ExecuteTime": {
     "end_time": "2024-08-08T07:23:02.248382200Z",
     "start_time": "2024-08-08T07:23:02.073553700Z"
    }
   },
   "outputs": [],
   "source": [
    "# Run placer.py\n",
    "import placer\n",
    "\n",
    "maps = placer.load_maps(path=RAW_PATH)\n",
    "for map in maps:\n",
    "    placer.assign_parameters(map, enemy_density=0.05, cohesion=0.3, treasure_density=0.01, range_multiplier=2, boss=True)\n",
    "    placer.modify_map(map, group_min_dist=10, flag_try_count=50, enemy_sparsity=3)\n",
    "placer.save_maps(maps, path=PLACED_PATH)"
   ]
  },
  {
   "cell_type": "code",
   "execution_count": 5,
   "metadata": {
    "ExecuteTime": {
     "end_time": "2024-08-08T07:23:05.411664500Z",
     "start_time": "2024-08-08T07:23:04.089177Z"
    }
   },
   "outputs": [],
   "source": [
    "# Run labeler.py\n",
    "import labeler\n",
    "\n",
    "labeler.label(placed_file_path=PLACED_PATH, labelled_file_path=LABELED_PATH, file_count=4, difficulty_curve_interval=5)"
   ]
  },
  {
   "cell_type": "code",
   "execution_count": 6,
   "metadata": {
    "ExecuteTime": {
     "end_time": "2024-08-08T06:05:39.063568700Z",
     "start_time": "2024-08-08T06:05:38.445246200Z"
    }
   },
   "outputs": [
    {
     "name": "stdout",
     "output_type": "stream",
     "text": [
      "find_final_map_keyword - Keyword positions: [137]\n",
      "is_ascii_art_line - Line to check: '### Final ASCII Map' Result: False\n",
      "is_ascii_art_line - Line to check: '' Result: False\n",
      "is_ascii_art_line - Line to check: '```' Result: False\n",
      "is_ascii_art_line - Line to check: '####################' Result: True\n",
      "is_ascii_art_line - Line to check: '#....T.#...........#' Result: True\n",
      "is_ascii_art_line - Line to check: '###/###############.#' Result: True\n",
      "is_ascii_art_line - Line to check: '#..........R6....#.' Result: False\n",
      "extract_ascii_art_map - Start index: 132, End index: 134\n",
      "###/###############.#\n",
      "#....T.#...........#\n",
      "####################\n",
      "Complete prompt saved to ../data/4. prompt/AutoCOT1.txt\n",
      "find_final_map_keyword - Keyword positions: [115, 142]\n",
      "is_ascii_art_line - Line to check: 'Final map looks like:' Result: False\n",
      "is_ascii_art_line - Line to check: '' Result: False\n",
      "is_ascii_art_line - Line to check: '- Boss (B) at (10, 12)' Result: False\n",
      "is_ascii_art_line - Line to check: '- Player (P) at (15, 15)' Result: False\n",
      "is_ascii_art_line - Line to check: 'Assuming:' Result: False\n",
      "is_ascii_art_line - Line to check: '' Result: False\n",
      "is_ascii_art_line - Line to check: '- Place **Player (P)** and **Boss (B)** in different rooms.' Result: False\n",
      "is_ascii_art_line - Line to check: '### Step 4: Place Player and Boss' Result: False\n",
      "is_ascii_art_line - Line to check: '' Result: False\n",
      "is_ascii_art_line - Line to check: '```' Result: False\n",
      "is_ascii_art_line - Line to check: '####################' Result: True\n",
      "is_ascii_art_line - Line to check: '####################' Result: True\n",
      "is_ascii_art_line - Line to check: '####################' Result: True\n",
      "is_ascii_art_line - Line to check: '####################' Result: True\n",
      "is_ascii_art_line - Line to check: '####################' Result: True\n",
      "is_ascii_art_line - Line to check: '####################' Result: True\n",
      "is_ascii_art_line - Line to check: '####################' Result: True\n",
      "is_ascii_art_line - Line to check: '####################' Result: True\n",
      "is_ascii_art_line - Line to check: '####################' Result: True\n",
      "is_ascii_art_line - Line to check: '#########/############' Result: True\n",
      "is_ascii_art_line - Line to check: '#T....E.E###########' Result: True\n",
      "is_ascii_art_line - Line to check: '#.....#####........#' Result: True\n",
      "is_ascii_art_line - Line to check: '#.....#...#........#' Result: True\n",
      "is_ascii_art_line - Line to check: '#.....#...#........#' Result: True\n",
      "is_ascii_art_line - Line to check: '#.....#...#........#' Result: True\n",
      "is_ascii_art_line - Line to check: '#######/#############' Result: True\n",
      "is_ascii_art_line - Line to check: '####################' Result: True\n",
      "is_ascii_art_line - Line to check: '####################' Result: True\n",
      "is_ascii_art_line - Line to check: '####################' Result: True\n",
      "is_ascii_art_line - Line to check: '####################' Result: True\n",
      "is_ascii_art_line - Line to check: '####################' Result: True\n",
      "is_ascii_art_line - Line to check: '```plaintext' Result: False\n",
      "extract_ascii_art_map - Start index: 85, End index: 105\n",
      "####################\n",
      "####################\n",
      "####################\n",
      "####################\n",
      "####################\n",
      "#######/#############\n",
      "#.....#...#........#\n",
      "#.....#...#........#\n",
      "#.....#...#........#\n",
      "#.....#####........#\n",
      "#T....E.E###########\n",
      "#########/############\n",
      "####################\n",
      "####################\n",
      "####################\n",
      "####################\n",
      "####################\n",
      "####################\n",
      "####################\n",
      "####################\n",
      "####################\n",
      "successly saved ../data/5. preprocessed/batch0.json\n"
     ]
    }
   ],
   "source": [
    "# Generate preprocessed\n",
    "from preprocessed_data_generator import preprocessed_data_generator\n",
    "\n",
    "preprocessed_data_generator(DATA_COUNT, EXAMPLE_COUNT, PREPROCESSED_PATH, BASE_PROMPT_FILE_PATH, LABELED_PATH, PROMPT_FILE_PATH)\n",
    "\n",
    "\n"
   ]
  },
  {
   "cell_type": "code",
   "execution_count": 7,
   "metadata": {
    "ExecuteTime": {
     "end_time": "2024-08-08T05:54:57.560132800Z",
     "start_time": "2024-08-08T05:54:57.544656500Z"
    }
   },
   "outputs": [
    {
     "name": "stdout",
     "output_type": "stream",
     "text": [
      "Object may be on inaccessible location.\n",
      "Object may be on inaccessible location.\n",
      "Object may be on inaccessible location.\n",
      "Enemy may be on inaccessible location. (10, 6)\n",
      "Enemy may be on inaccessible location. (10, 8)\n"
     ]
    }
   ],
   "source": [
    "# Run comparator.py\n",
    "import comparator\n",
    "\n",
    "comparator.compare(preprocessed_path=PREPROCESSED_PATH, compared_path=COMPARED_PATH, file_count=1)"
   ]
  },
  {
   "cell_type": "code",
   "execution_count": 8,
   "metadata": {},
   "outputs": [],
   "source": [
    "# Get compared file\n",
    "import os\n",
    "import json\n",
    "\n",
    "path = os.path.join(COMPARED_PATH)\n",
    "\n",
    "filename_list = [\n",
    "    filename\n",
    "    for filename in os.listdir(path)\n",
    "    if filename.endswith(\".json\") and os.path.isfile(os.path.join(path, filename))\n",
    "]\n",
    "\n",
    "path_list = [os.path.join(path, filename) for filename in filename_list]\n",
    "\n",
    "compared_list = list()\n",
    "for file_path in path_list:\n",
    "    with open(file_path, \"r\") as file:\n",
    "        compared_batch = json.load(file)\n",
    "        for compared in compared_batch[\"map_list\"]:\n",
    "            compared_list.append(compared)"
   ]
  },
  {
   "cell_type": "code",
   "execution_count": 9,
   "metadata": {},
   "outputs": [],
   "source": [
    "# Calculate difference\n",
    "diff_dict = dict()\n",
    "\n",
    "params = [\n",
    "    \"map_size\",\n",
    "    \"room_count\",\n",
    "    \"enemy_count\",\n",
    "    \"treasure_count\"\n",
    "]\n",
    "\n",
    "for param in params:\n",
    "    diff_dict[param] = list()\n",
    "\n",
    "for compared in compared_list:\n",
    "    for param in params:\n",
    "        try:\n",
    "            diff_dict[param].append([abs(float(compared[\"after_params\"][param][i]) - float(compared[\"before_params\"][param][i])) for i in range(len(compared[\"after_params\"][param]))])\n",
    "        except:\n",
    "            diff_dict[param].append(abs(float(compared[\"after_params\"][param]) - float(compared[\"before_params\"][param])))"
   ]
  },
  {
   "cell_type": "code",
   "execution_count": 10,
   "metadata": {},
   "outputs": [],
   "source": [
    "# Calculate mean and standard deviation\n",
    "import numpy as np\n",
    "\n",
    "mean_dict = dict()\n",
    "std_dict = dict()\n",
    "\n",
    "for param in params:\n",
    "    try:\n",
    "        mean_dict[param] = np.mean(np.array(diff_dict[param]), axis=0)\n",
    "        std_dict[param] = np.std(np.array(diff_dict[param]), axis=0)\n",
    "    except:\n",
    "        mean_dict[param] = np.mean(diff_dict[param])\n",
    "        std_dict[param] = np.std(diff_dict[param])"
   ]
  },
  {
   "cell_type": "code",
   "execution_count": 11,
   "metadata": {},
   "outputs": [
    {
     "name": "stdout",
     "output_type": "stream",
     "text": [
      "{'map_size': array([1., 2.]), 'room_count': 5.0, 'enemy_count': 0.0, 'treasure_count': 0.0}\n",
      "{'map_size': array([0., 0.]), 'room_count': 0.0, 'enemy_count': 0.0, 'treasure_count': 0.0}\n"
     ]
    }
   ],
   "source": [
    "# Print mean and standard deviation\n",
    "print(mean_dict)\n",
    "print(std_dict)"
   ]
  },
  {
   "cell_type": "code",
   "execution_count": 12,
   "metadata": {},
   "outputs": [],
   "source": [
    "# Calculate playability\n",
    "\n",
    "playability_list = list()\n",
    "for i in range(len(compared_list)):\n",
    "    playability_list.append(compared_list[i][\"after_params\"][\"playability\"])\n",
    "\n",
    "playability_mean = np.mean(playability_list)"
   ]
  },
  {
   "cell_type": "code",
   "execution_count": 13,
   "metadata": {},
   "outputs": [
    {
     "name": "stdout",
     "output_type": "stream",
     "text": [
      "0.0\n"
     ]
    }
   ],
   "source": [
    "# Print playability\n",
    "print(playability_mean)"
   ]
  }
 ],
 "metadata": {
  "kernelspec": {
   "display_name": "ugrp_env",
   "language": "python",
   "name": "python3"
  },
  "language_info": {
   "codemirror_mode": {
    "name": "ipython",
    "version": 3
   },
   "file_extension": ".py",
   "mimetype": "text/x-python",
   "name": "python",
   "nbconvert_exporter": "python",
   "pygments_lexer": "ipython3",
   "version": "3.11.5"
  }
 },
 "nbformat": 4,
 "nbformat_minor": 2
}
