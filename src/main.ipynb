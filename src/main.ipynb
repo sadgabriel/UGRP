{
 "cells": [
  {
   "cell_type": "code",
   "execution_count": 1,
   "metadata": {
    "ExecuteTime": {
     "end_time": "2024-08-08T06:05:31.810630Z",
     "start_time": "2024-08-08T06:05:31.793891300Z"
    }
   },
   "outputs": [],
   "source": [
    "#setting\n",
    "PROMPT_STYLE = 'AutoCOT1'\n",
    "DATA_COUNT = 1\n",
    "EXAMPLE_COUNT = 10"
   ]
  },
  {
   "cell_type": "code",
   "execution_count": 2,
   "metadata": {
    "ExecuteTime": {
     "end_time": "2024-08-08T06:05:33.974893100Z",
     "start_time": "2024-08-08T06:05:33.960373500Z"
    },
    "collapsed": false
   },
   "outputs": [],
   "source": [
    "# Configs\n",
    "RAW_PATH = '../data/1. raw/'\n",
    "PLACED_PATH = '../data/2. placed/'\n",
    "LABELED_PATH = '../data/3. labelled/'\n",
    "PROMPT_PATH = '../data/4. prompt/'\n",
    "PREPROCESSED_PATH = '../data/5. preprocessed/'\n",
    "COMPARED_PATH = '../data/6. compared/'\n",
    "\n",
    "BASE_PROMPT_FILE_PATH = PROMPT_PATH + f'base_prompt/{PROMPT_STYLE}.txt'\n",
    "PROMPT_FILE_PATH = PROMPT_PATH + f'{PROMPT_STYLE}.txt'\n",
    "unstructured_data_path = PREPROCESSED_PATH + f'unstructured_data/{PROMPT_STYLE}.txt'"
   ]
  },
  {
   "cell_type": "code",
   "execution_count": 3,
   "metadata": {
    "ExecuteTime": {
     "end_time": "2024-08-08T06:05:34.699254400Z",
     "start_time": "2024-08-08T06:05:34.629435Z"
    }
   },
   "outputs": [
    {
     "data": {
      "text/plain": [
       "CompletedProcess(args=['node', 'generator.js', '200', '200'], returncode=0)"
      ]
     },
     "execution_count": 3,
     "metadata": {},
     "output_type": "execute_result"
    }
   ],
   "source": [
    "# Run generator.js\n",
    "import subprocess\n",
    "\n",
    "params = [\"200\", \"200\"] # Enter the number of data. each prameter indicate the number of small, large map.\n",
    "\n",
    "subprocess.run([\"node\", \"generator.js\"] + params)"
   ]
  },
  {
   "cell_type": "code",
   "execution_count": 4,
   "metadata": {
    "ExecuteTime": {
     "end_time": "2024-08-08T06:05:36.665187100Z",
     "start_time": "2024-08-08T06:05:36.517626300Z"
    }
   },
   "outputs": [],
   "source": [
    "# Run placer.py\n",
    "import placer\n",
    "\n",
    "maps = placer.load_maps(path=RAW_PATH)\n",
    "for map in maps:\n",
    "    placer.assign_parameters(map, enemy_density=0.05, cohesion=0.3, reward_density=0.01, range_multiplier=2, boss=True)\n",
    "    placer.modify_map(map, group_min_dist=10, flag_try_count=50, enemy_sparsity=3)\n",
    "placer.save_maps(maps, path=PLACED_PATH)"
   ]
  },
  {
   "cell_type": "code",
   "execution_count": 5,
   "metadata": {
    "ExecuteTime": {
     "end_time": "2024-08-08T06:05:37.727761600Z",
     "start_time": "2024-08-08T06:05:37.397712900Z"
    }
   },
   "outputs": [
    {
     "ename": "IndexError",
     "evalue": "pop from empty list",
     "output_type": "error",
     "traceback": [
      "\u001b[1;31m---------------------------------------------------------------------------\u001b[0m",
      "\u001b[1;31mIndexError\u001b[0m                                Traceback (most recent call last)",
      "Cell \u001b[1;32mIn[5], line 4\u001b[0m\n\u001b[0;32m      1\u001b[0m \u001b[38;5;66;03m# Run labeler.py\u001b[39;00m\n\u001b[0;32m      2\u001b[0m \u001b[38;5;28;01mimport\u001b[39;00m \u001b[38;5;21;01mlabeler\u001b[39;00m\n\u001b[1;32m----> 4\u001b[0m \u001b[43mlabeler\u001b[49m\u001b[38;5;241;43m.\u001b[39;49m\u001b[43mlabel\u001b[49m\u001b[43m(\u001b[49m\u001b[43mfile_count\u001b[49m\u001b[38;5;241;43m=\u001b[39;49m\u001b[38;5;241;43m4\u001b[39;49m\u001b[43m,\u001b[49m\u001b[43m \u001b[49m\u001b[43mdifficulty_curve_interval\u001b[49m\u001b[38;5;241;43m=\u001b[39;49m\u001b[38;5;241;43m5\u001b[39;49m\u001b[43m)\u001b[49m\n",
      "File \u001b[1;32mc:\\Users\\DELL\\Desktop\\spacemodule\\UGRP\\src\\labeler.py:68\u001b[0m, in \u001b[0;36mlabel\u001b[1;34m(file_count, difficulty_curve_interval)\u001b[0m\n\u001b[0;32m     65\u001b[0m     map_list \u001b[38;5;241m=\u001b[39m input_data[i][\u001b[38;5;124m\"\u001b[39m\u001b[38;5;124mmap_list\u001b[39m\u001b[38;5;124m\"\u001b[39m]\n\u001b[0;32m     67\u001b[0m     \u001b[38;5;28;01mfor\u001b[39;00m j \u001b[38;5;129;01min\u001b[39;00m \u001b[38;5;28mrange\u001b[39m(\u001b[38;5;28mlen\u001b[39m(map_list)):\n\u001b[1;32m---> 68\u001b[0m         new_params \u001b[38;5;241m=\u001b[39m \u001b[43mestimate\u001b[49m\u001b[43m(\u001b[49m\u001b[43mmap_list\u001b[49m\u001b[43m[\u001b[49m\u001b[43mj\u001b[49m\u001b[43m]\u001b[49m\u001b[43m[\u001b[49m\u001b[38;5;124;43m\"\u001b[39;49m\u001b[38;5;124;43mmap\u001b[39;49m\u001b[38;5;124;43m\"\u001b[39;49m\u001b[43m]\u001b[49m\u001b[43m)\u001b[49m\n\u001b[0;32m     69\u001b[0m         output_data[i][\u001b[38;5;124m\"\u001b[39m\u001b[38;5;124mmap_list\u001b[39m\u001b[38;5;124m\"\u001b[39m][j][\u001b[38;5;124m\"\u001b[39m\u001b[38;5;124mparams\u001b[39m\u001b[38;5;124m\"\u001b[39m]\u001b[38;5;241m.\u001b[39mupdate(new_params)\n\u001b[0;32m     71\u001b[0m \u001b[38;5;66;03m# Save data\u001b[39;00m\n",
      "File \u001b[1;32mc:\\Users\\DELL\\Desktop\\spacemodule\\UGRP\\src\\labeler.py:82\u001b[0m, in \u001b[0;36mestimate\u001b[1;34m(level, difficulty_curve_interval)\u001b[0m\n\u001b[0;32m     78\u001b[0m \u001b[38;5;250m\u001b[39m\u001b[38;5;124;03m\"\"\"\u001b[39;00m\n\u001b[0;32m     79\u001b[0m \u001b[38;5;124;03mMake scores(it means parameters) by estimating level.\u001b[39;00m\n\u001b[0;32m     80\u001b[0m \u001b[38;5;124;03m\"\"\"\u001b[39;00m\n\u001b[0;32m     81\u001b[0m \u001b[38;5;66;03m# str level to list level.\u001b[39;00m\n\u001b[1;32m---> 82\u001b[0m list_level \u001b[38;5;241m=\u001b[39m \u001b[43mstr_level_to_list_level\u001b[49m\u001b[43m(\u001b[49m\u001b[43mlevel\u001b[49m\u001b[43m)\u001b[49m\n\u001b[0;32m     84\u001b[0m \u001b[38;5;66;03m# count parameters\u001b[39;00m\n\u001b[0;32m     85\u001b[0m (\n\u001b[0;32m     86\u001b[0m     treasure_count,\n\u001b[0;32m     87\u001b[0m     enemy_count,\n\u001b[1;32m   (...)\u001b[0m\n\u001b[0;32m     92\u001b[0m     total_tile_count,\n\u001b[0;32m     93\u001b[0m ) \u001b[38;5;241m=\u001b[39m _set_count_param(list_level)\n",
      "File \u001b[1;32mc:\\Users\\DELL\\Desktop\\spacemodule\\UGRP\\src\\labeler.py:444\u001b[0m, in \u001b[0;36mstr_level_to_list_level\u001b[1;34m(level)\u001b[0m\n\u001b[0;32m    442\u001b[0m         result\u001b[38;5;241m.\u001b[39mappend(row)\n\u001b[0;32m    443\u001b[0m         row \u001b[38;5;241m=\u001b[39m []\n\u001b[1;32m--> 444\u001b[0m result\u001b[38;5;241m.\u001b[39mpop()  \u001b[38;5;66;03m# Because map data ends with two '\\n's at the end.\u001b[39;00m\n\u001b[0;32m    446\u001b[0m \u001b[38;5;28;01mreturn\u001b[39;00m result\n",
      "\u001b[1;31mIndexError\u001b[0m: pop from empty list"
     ]
    }
   ],
   "source": [
    "# Run labeler.py\n",
    "import labeler\n",
    "\n",
    "labeler.label(file_count=4, difficulty_curve_interval=5)"
   ]
  },
  {
   "cell_type": "code",
   "execution_count": null,
   "metadata": {
    "ExecuteTime": {
     "end_time": "2024-08-08T06:05:39.063568700Z",
     "start_time": "2024-08-08T06:05:38.445246200Z"
    }
   },
   "outputs": [
    {
     "name": "stdout",
     "output_type": "stream",
     "text": [
      "find_final_map_keyword - Keyword positions: [94]\n",
      "is_ascii_art_line - Line to check: 'Final ASCII Map' Result: False\n",
      "is_ascii_art_line - Line to check: '####################' Result: True\n",
      "is_ascii_art_line - Line to check: '#..B...#......#...#' Result: True\n",
      "is_ascii_art_line - Line to check: '#......#......#...#' Result: True\n",
      "is_ascii_art_line - Line to check: '####################' Result: True\n",
      "is_ascii_art_line - Line to check: '#......#...R..#...#' Result: True\n",
      "is_ascii_art_line - Line to check: '#......#......#...#' Result: True\n",
      "is_ascii_art_line - Line to check: '#......#......#...#' Result: True\n",
      "is_ascii_art_line - Line to check: '######/######/#####' Result: True\n",
      "is_ascii_art_line - Line to check: '#......#......#...#' Result: True\n",
      "is_ascii_art_line - Line to check: '#......#......#...#' Result: True\n",
      "is_ascii_art_line - Line to check: '####################' Result: True\n",
      "is_ascii_art_line - Line to check: '#......#......#...#' Result: True\n",
      "is_ascii_art_line - Line to check: '#......#..E...#...#' Result: True\n",
      "is_ascii_art_line - Line to check: '#......#......#...#' Result: True\n",
      "is_ascii_art_line - Line to check: '######/######/#####' Result: True\n",
      "is_ascii_art_line - Line to check: '#......#......#...#' Result: True\n",
      "is_ascii_art_line - Line to check: '#..P...#......#..E#' Result: True\n",
      "is_ascii_art_line - Line to check: '#......#......#...#' Result: True\n",
      "is_ascii_art_line - Line to check: '####################' Result: True\n",
      "is_ascii_art_line - Line to check: '코드 복사' Result: False\n",
      "extract_ascii_art_map - Start index: 75, End index: 93\n",
      "####################\n",
      "#......#......#...#\n",
      "#..P...#......#..E#\n",
      "#......#......#...#\n",
      "######/######/#####\n",
      "#......#......#...#\n",
      "#......#..E...#...#\n",
      "#......#......#...#\n",
      "####################\n",
      "#......#......#...#\n",
      "#......#......#...#\n",
      "######/######/#####\n",
      "#......#......#...#\n",
      "#......#......#...#\n",
      "#......#...R..#...#\n",
      "####################\n",
      "#......#......#...#\n",
      "#..B...#......#...#\n",
      "####################\n",
      "Complete prompt saved to ../data/4. prompt/AutoCOT1.txt\n",
      "find_final_map_keyword - Keyword positions: [94]\n",
      "is_ascii_art_line - Line to check: 'Final ASCII Map' Result: False\n",
      "is_ascii_art_line - Line to check: '####################' Result: True\n",
      "is_ascii_art_line - Line to check: '#..B...#......#...#' Result: True\n",
      "is_ascii_art_line - Line to check: '#......#......#...#' Result: True\n",
      "is_ascii_art_line - Line to check: '####################' Result: True\n",
      "is_ascii_art_line - Line to check: '#......#...R..#...#' Result: True\n",
      "is_ascii_art_line - Line to check: '#......#......#...#' Result: True\n",
      "is_ascii_art_line - Line to check: '#......#......#...#' Result: True\n",
      "is_ascii_art_line - Line to check: '######/######/#####' Result: True\n",
      "is_ascii_art_line - Line to check: '#......#......#...#' Result: True\n",
      "is_ascii_art_line - Line to check: '#......#......#...#' Result: True\n",
      "is_ascii_art_line - Line to check: '####################' Result: True\n",
      "is_ascii_art_line - Line to check: '#......#......#...#' Result: True\n",
      "is_ascii_art_line - Line to check: '#......#..E...#...#' Result: True\n",
      "is_ascii_art_line - Line to check: '#......#......#...#' Result: True\n",
      "is_ascii_art_line - Line to check: '######/######/#####' Result: True\n",
      "is_ascii_art_line - Line to check: '#......#......#...#' Result: True\n",
      "is_ascii_art_line - Line to check: '#..P...#......#..E#' Result: True\n",
      "is_ascii_art_line - Line to check: '#......#......#...#' Result: True\n",
      "is_ascii_art_line - Line to check: '####################' Result: True\n",
      "is_ascii_art_line - Line to check: '코드 복사' Result: False\n",
      "extract_ascii_art_map - Start index: 75, End index: 93\n",
      "####################\n",
      "#......#......#...#\n",
      "#..P...#......#..E#\n",
      "#......#......#...#\n",
      "######/######/#####\n",
      "#......#......#...#\n",
      "#......#..E...#...#\n",
      "#......#......#...#\n",
      "####################\n",
      "#......#......#...#\n",
      "#......#......#...#\n",
      "######/######/#####\n",
      "#......#......#...#\n",
      "#......#......#...#\n",
      "#......#...R..#...#\n",
      "####################\n",
      "#......#......#...#\n",
      "#..B...#......#...#\n",
      "####################\n",
      "successly saved ../data/5. preprocessed/batch0.json\n"
     ]
    }
   ],
   "source": [
    "# Generate preprocessed\n",
    "from preprocessed_data_generator import preprocessed_data_generator\n",
    "\n",
    "preprocessed_data_generator(DATA_COUNT, EXAMPLE_COUNT, PREPROCESSED_PATH, BASE_PROMPT_FILE_PATH, LABELED_PATH, PROMPT_FILE_PATH)\n",
    "\n",
    "\n"
   ]
  },
  {
   "cell_type": "code",
   "execution_count": null,
   "metadata": {
    "ExecuteTime": {
     "end_time": "2024-08-08T05:54:57.560132800Z",
     "start_time": "2024-08-08T05:54:57.544656500Z"
    }
   },
   "outputs": [
    {
     "ename": "IndexError",
     "evalue": "list index out of range",
     "output_type": "error",
     "traceback": [
      "\u001b[1;31m---------------------------------------------------------------------------\u001b[0m",
      "\u001b[1;31mIndexError\u001b[0m                                Traceback (most recent call last)",
      "Cell \u001b[1;32mIn[7], line 4\u001b[0m\n\u001b[0;32m      1\u001b[0m \u001b[38;5;66;03m# Run comparator.py\u001b[39;00m\n\u001b[0;32m      2\u001b[0m \u001b[38;5;28;01mimport\u001b[39;00m \u001b[38;5;21;01mcomparator\u001b[39;00m\n\u001b[1;32m----> 4\u001b[0m \u001b[43mcomparator\u001b[49m\u001b[38;5;241;43m.\u001b[39;49m\u001b[43mcompare\u001b[49m\u001b[43m(\u001b[49m\u001b[43mpreprocessed_path\u001b[49m\u001b[38;5;241;43m=\u001b[39;49m\u001b[43mPREPROCESSED_PATH\u001b[49m\u001b[43m,\u001b[49m\u001b[43m \u001b[49m\u001b[43mcompared_path\u001b[49m\u001b[38;5;241;43m=\u001b[39;49m\u001b[43mCOMPARED_PATH\u001b[49m\u001b[43m,\u001b[49m\u001b[43m \u001b[49m\u001b[43mfile_count\u001b[49m\u001b[38;5;241;43m=\u001b[39;49m\u001b[38;5;241;43m1\u001b[39;49m\u001b[43m)\u001b[49m\n",
      "File \u001b[1;32mc:\\Users\\DELL\\Desktop\\spacemodule\\UGRP\\src\\comparator.py:33\u001b[0m, in \u001b[0;36mcompare\u001b[1;34m(preprocessed_path, compared_path, file_count)\u001b[0m\n\u001b[0;32m     31\u001b[0m     \u001b[38;5;28;01mfor\u001b[39;00m j \u001b[38;5;129;01min\u001b[39;00m \u001b[38;5;28mrange\u001b[39m(data_count):\n\u001b[0;32m     32\u001b[0m         before_params \u001b[38;5;241m=\u001b[39m map_list[j][\u001b[38;5;124m\"\u001b[39m\u001b[38;5;124mparams\u001b[39m\u001b[38;5;124m\"\u001b[39m]\n\u001b[1;32m---> 33\u001b[0m         after_params \u001b[38;5;241m=\u001b[39m \u001b[43mestimate\u001b[49m\u001b[43m(\u001b[49m\u001b[43mmap_list\u001b[49m\u001b[43m[\u001b[49m\u001b[43mj\u001b[49m\u001b[43m]\u001b[49m\u001b[43m[\u001b[49m\u001b[38;5;124;43m\"\u001b[39;49m\u001b[38;5;124;43mmap\u001b[39;49m\u001b[38;5;124;43m\"\u001b[39;49m\u001b[43m]\u001b[49m\u001b[43m)\u001b[49m\n\u001b[0;32m     35\u001b[0m \u001b[38;5;66;03m# Make a list that it contains parameters from two datasets.\u001b[39;00m\n\u001b[0;32m     36\u001b[0m compared_data \u001b[38;5;241m=\u001b[39m \u001b[38;5;28mlist\u001b[39m()\n",
      "File \u001b[1;32mc:\\Users\\DELL\\Desktop\\spacemodule\\UGRP\\src\\labeler.py:102\u001b[0m, in \u001b[0;36mestimate\u001b[1;34m(level, difficulty_curve_interval)\u001b[0m\n\u001b[0;32m     85\u001b[0m (\n\u001b[0;32m     86\u001b[0m     treasure_count,\n\u001b[0;32m     87\u001b[0m     enemy_count,\n\u001b[1;32m   (...)\u001b[0m\n\u001b[0;32m     92\u001b[0m     total_tile_count,\n\u001b[0;32m     93\u001b[0m ) \u001b[38;5;241m=\u001b[39m _set_count_param(list_level)\n\u001b[0;32m     95\u001b[0m \u001b[38;5;66;03m# set object positions\u001b[39;00m\n\u001b[0;32m     96\u001b[0m (\n\u001b[0;32m     97\u001b[0m     object_positions,\n\u001b[0;32m     98\u001b[0m     enemy_positions,\n\u001b[0;32m     99\u001b[0m     treasure_positions,\n\u001b[0;32m    100\u001b[0m     exit_position,\n\u001b[0;32m    101\u001b[0m     entry_position,\n\u001b[1;32m--> 102\u001b[0m ) \u001b[38;5;241m=\u001b[39m \u001b[43m_set_object_dict\u001b[49m\u001b[43m(\u001b[49m\u001b[43mlist_level\u001b[49m\u001b[43m)\u001b[49m\n\u001b[0;32m    104\u001b[0m \u001b[38;5;66;03m# set distance dict\u001b[39;00m\n\u001b[0;32m    105\u001b[0m distance_dict_entry, distance_dict_exit \u001b[38;5;241m=\u001b[39m _set_distance_dict(\n\u001b[0;32m    106\u001b[0m     list_level, entry_position, exit_position\n\u001b[0;32m    107\u001b[0m )\n",
      "File \u001b[1;32mc:\\Users\\DELL\\Desktop\\spacemodule\\UGRP\\src\\labeler.py:233\u001b[0m, in \u001b[0;36m_set_object_dict\u001b[1;34m(list_level)\u001b[0m\n\u001b[0;32m    232\u001b[0m \u001b[38;5;28;01mdef\u001b[39;00m \u001b[38;5;21m_set_object_dict\u001b[39m(list_level: \u001b[38;5;28mlist\u001b[39m) \u001b[38;5;241m-\u001b[39m\u001b[38;5;241m>\u001b[39m \u001b[38;5;28mtuple\u001b[39m:\n\u001b[1;32m--> 233\u001b[0m     entry_position \u001b[38;5;241m=\u001b[39m \u001b[43m_find_objects_position\u001b[49m\u001b[43m(\u001b[49m\u001b[43mlist_level\u001b[49m\u001b[43m,\u001b[49m\u001b[43m \u001b[49m\u001b[43micons\u001b[49m\u001b[43m[\u001b[49m\u001b[38;5;124;43m\"\u001b[39;49m\u001b[38;5;124;43mentry\u001b[39;49m\u001b[38;5;124;43m\"\u001b[39;49m\u001b[43m]\u001b[49m\u001b[43m)\u001b[49m[\u001b[38;5;241m0\u001b[39m]\n\u001b[0;32m    235\u001b[0m     exit_type \u001b[38;5;241m=\u001b[39m \u001b[38;5;28;01mNone\u001b[39;00m\n\u001b[0;32m    236\u001b[0m     \u001b[38;5;28;01mfor\u001b[39;00m i \u001b[38;5;129;01min\u001b[39;00m \u001b[38;5;28mrange\u001b[39m(\u001b[38;5;28mlen\u001b[39m(list_level)):\n",
      "File \u001b[1;32mc:\\Users\\DELL\\Desktop\\spacemodule\\UGRP\\src\\labeler.py:425\u001b[0m, in \u001b[0;36m_find_objects_position\u001b[1;34m(list_level, obj_icon)\u001b[0m\n\u001b[0;32m    423\u001b[0m \u001b[38;5;28;01mfor\u001b[39;00m i \u001b[38;5;129;01min\u001b[39;00m \u001b[38;5;28mrange\u001b[39m(\u001b[38;5;28mlen\u001b[39m(list_level)):\n\u001b[0;32m    424\u001b[0m     \u001b[38;5;28;01mfor\u001b[39;00m j \u001b[38;5;129;01min\u001b[39;00m \u001b[38;5;28mrange\u001b[39m(\u001b[38;5;28mlen\u001b[39m(list_level[\u001b[38;5;241m0\u001b[39m])):\n\u001b[1;32m--> 425\u001b[0m         \u001b[38;5;28;01mif\u001b[39;00m \u001b[43mlist_level\u001b[49m\u001b[43m[\u001b[49m\u001b[43mi\u001b[49m\u001b[43m]\u001b[49m\u001b[43m[\u001b[49m\u001b[43mj\u001b[49m\u001b[43m]\u001b[49m \u001b[38;5;241m==\u001b[39m obj_icon:\n\u001b[0;32m    426\u001b[0m             result\u001b[38;5;241m.\u001b[39mappend((i, j))\n\u001b[0;32m    428\u001b[0m \u001b[38;5;28;01mreturn\u001b[39;00m result\n",
      "\u001b[1;31mIndexError\u001b[0m: list index out of range"
     ]
    }
   ],
   "source": [
    "# Run comparator.py\n",
    "import comparator\n",
    "\n",
    "comparator.compare(preprocessed_path=PREPROCESSED_PATH, compared_path=COMPARED_PATH, file_count=1)"
   ]
  },
  {
   "cell_type": "code",
   "execution_count": null,
   "metadata": {},
   "outputs": [],
   "source": [
    "# Get compared file\n",
    "import os\n",
    "import json\n",
    "\n",
    "path = os.path.join(COMPARED_PATH)\n",
    "\n",
    "filename_list = [\n",
    "    filename\n",
    "    for filename in os.listdir(path)\n",
    "    if filename.endswith(\".json\") and os.path.isfile(os.path.join(path, filename))\n",
    "]\n",
    "\n",
    "path_list = [os.path.join(path, filename) for filename in filename_list]\n",
    "\n",
    "compared_list = list()\n",
    "for file_path in path_list:\n",
    "    with open(file_path, \"r\") as file:\n",
    "        compared_batch = json.load(file)\n",
    "        for compared in compared_batch[\"map_list\"]:\n",
    "            compared_list.append(compared)"
   ]
  },
  {
   "cell_type": "code",
   "execution_count": null,
   "metadata": {},
   "outputs": [],
   "source": [
    "# Calculate difference\n",
    "diff_dict = dict()\n",
    "\n",
    "params = [\n",
    "    \"map_size\",\n",
    "    \"room_count\",\n",
    "    \"enemy_count\",\n",
    "    \"treasure_count\"\n",
    "]\n",
    "\n",
    "for param in params:\n",
    "    diff_dict[param] = list()\n",
    "\n",
    "for compared in compared_list:\n",
    "    for param in params:\n",
    "        try:\n",
    "            diff_dict[param].append([abs(float(compared[\"after_params\"][param][i]) - float(compared[\"before_params\"][param][i])) for i in range(len(compared[\"after_params\"][param]))])\n",
    "        except:\n",
    "            diff_dict[param].append(abs(float(compared[\"after_params\"][param]) - float(compared[\"before_params\"][param])))"
   ]
  },
  {
   "cell_type": "code",
   "execution_count": null,
   "metadata": {},
   "outputs": [
    {
     "ename": "KeyError",
     "evalue": "'MAP_SIZE'",
     "output_type": "error",
     "traceback": [
      "\u001b[1;31m---------------------------------------------------------------------------\u001b[0m",
      "\u001b[1;31mKeyError\u001b[0m                                  Traceback (most recent call last)",
      "Cell \u001b[1;32mIn[22], line 9\u001b[0m\n\u001b[0;32m      8\u001b[0m \u001b[38;5;28;01mtry\u001b[39;00m:\n\u001b[1;32m----> 9\u001b[0m     mean_dict[param] \u001b[38;5;241m=\u001b[39m np\u001b[38;5;241m.\u001b[39mmean(np\u001b[38;5;241m.\u001b[39marray(\u001b[43mdiff_dict\u001b[49m\u001b[43m[\u001b[49m\u001b[43mparam\u001b[49m\u001b[43m]\u001b[49m), axis\u001b[38;5;241m=\u001b[39m\u001b[38;5;241m0\u001b[39m)\n\u001b[0;32m     10\u001b[0m     std_dict[param] \u001b[38;5;241m=\u001b[39m np\u001b[38;5;241m.\u001b[39mstd(np\u001b[38;5;241m.\u001b[39marray(diff_dict[param]), axis\u001b[38;5;241m=\u001b[39m\u001b[38;5;241m0\u001b[39m)\n",
      "\u001b[1;31mKeyError\u001b[0m: 'MAP_SIZE'",
      "\nDuring handling of the above exception, another exception occurred:\n",
      "\u001b[1;31mKeyError\u001b[0m                                  Traceback (most recent call last)",
      "Cell \u001b[1;32mIn[22], line 12\u001b[0m\n\u001b[0;32m     10\u001b[0m     std_dict[param] \u001b[38;5;241m=\u001b[39m np\u001b[38;5;241m.\u001b[39mstd(np\u001b[38;5;241m.\u001b[39marray(diff_dict[param]), axis\u001b[38;5;241m=\u001b[39m\u001b[38;5;241m0\u001b[39m)\n\u001b[0;32m     11\u001b[0m \u001b[38;5;28;01mexcept\u001b[39;00m:\n\u001b[1;32m---> 12\u001b[0m     mean_dict[param] \u001b[38;5;241m=\u001b[39m np\u001b[38;5;241m.\u001b[39mmean(\u001b[43mdiff_dict\u001b[49m\u001b[43m[\u001b[49m\u001b[43mparam\u001b[49m\u001b[43m]\u001b[49m)\n\u001b[0;32m     13\u001b[0m     std_dict[param] \u001b[38;5;241m=\u001b[39m np\u001b[38;5;241m.\u001b[39mstd(diff_dict[param])\n",
      "\u001b[1;31mKeyError\u001b[0m: 'MAP_SIZE'"
     ]
    }
   ],
   "source": [
    "# Calculate mean and standard deviation\n",
    "import numpy as np\n",
    "\n",
    "mean_dict = dict()\n",
    "std_dict = dict()\n",
    "\n",
    "for param in params:\n",
    "    try:\n",
    "        mean_dict[param] = np.mean(np.array(diff_dict[param]), axis=0)\n",
    "        std_dict[param] = np.std(np.array(diff_dict[param]), axis=0)\n",
    "    except:\n",
    "        mean_dict[param] = np.mean(diff_dict[param])\n",
    "        std_dict[param] = np.std(diff_dict[param])"
   ]
  },
  {
   "cell_type": "code",
   "execution_count": null,
   "metadata": {},
   "outputs": [
    {
     "name": "stdout",
     "output_type": "stream",
     "text": [
      "{'map_size': array([11., 11.]), 'density': 0.004152762328513162, 'empty_ratio': 0.09090347299468543, 'exploration_requirement': 29.0, 'difficulty_curve': 0.0, 'nonlinearity': 0.21704750661510275}\n",
      "{'map_size': array([0., 0.]), 'density': 0.0, 'empty_ratio': 0.0, 'exploration_requirement': 0.0, 'difficulty_curve': 0.0, 'nonlinearity': 0.0}\n"
     ]
    }
   ],
   "source": [
    "# Print mean and standard deviation\n",
    "print(mean_dict)\n",
    "print(std_dict)"
   ]
  },
  {
   "cell_type": "code",
   "execution_count": null,
   "metadata": {},
   "outputs": [],
   "source": [
    "# Calculate playability\n",
    "\n",
    "playability_list = list()\n",
    "for i in range(len(compared_list)):\n",
    "    playability_list.append(compared_list[i][\"after_params\"][\"playability\"])\n",
    "\n",
    "playability_mean = np.mean(playability_list)"
   ]
  },
  {
   "cell_type": "code",
   "execution_count": null,
   "metadata": {},
   "outputs": [],
   "source": [
    "# Print playability\n",
    "print(playability_mean)"
   ]
  }
 ],
 "metadata": {
  "kernelspec": {
   "display_name": "ugrp_env",
   "language": "python",
   "name": "python3"
  },
  "language_info": {
   "codemirror_mode": {
    "name": "ipython",
    "version": 3
   },
   "file_extension": ".py",
   "mimetype": "text/x-python",
   "name": "python",
   "nbconvert_exporter": "python",
   "pygments_lexer": "ipython3",
   "version": "3.11.5"
  }
 },
 "nbformat": 4,
 "nbformat_minor": 2
}
