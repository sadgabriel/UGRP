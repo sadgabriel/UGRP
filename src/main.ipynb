{
 "cells": [
  {
   "cell_type": "code",
   "execution_count": null,
   "metadata": {},
   "outputs": [],
   "source": [
    "%load_ext autoreload\n",
    "%autoreload 2"
   ]
  },
  {
   "cell_type": "code",
   "execution_count": null,
   "metadata": {},
   "outputs": [],
   "source": [
    "#setting\n",
    "prompt_style = 'AutoCOT2'\n",
    "data_count = 0\n",
    "example_count = 10\n"
   ]
  },
  {
   "cell_type": "code",
   "execution_count": null,
   "metadata": {},
   "outputs": [],
   "source": [
    "# Configs\n",
    "import config "
   ]
  },
  {
   "cell_type": "code",
   "execution_count": null,
   "metadata": {},
   "outputs": [],
   "source": [
    "# Run generator.js\n",
    "import subprocess\n",
    "\n",
    "params = [\"200\", \"200\"] # Enter the number of data. each prameter indicate the number of small, large map.\n",
    "\n",
    "subprocess.run([\"node\", \"generator.js\"] + params)"
   ]
  },
  {
   "cell_type": "code",
   "execution_count": null,
   "metadata": {},
   "outputs": [],
   "source": [
    "# Run placer.py\n",
    "import placer\n",
    "\n",
    "maps = placer.load_maps()\n",
    "for map in maps:\n",
    "    placer.assign_parameters(map, enemy_density=0.05, cohesion=0.3, treasure_density=0.01, range_multiplier=2, boss=True)\n",
    "    placer.modify_map(map, group_min_dist=10, flag_try_count=50, enemy_sparsity=3)\n",
    "placer.save_maps(maps)"
   ]
  },
  {
   "cell_type": "code",
   "execution_count": null,
   "metadata": {},
   "outputs": [],
   "source": [
    "# Run labeler.py\n",
    "import labeler\n",
    "\n",
    "labeler.label(placed_path=config.PLACED_PATH, labelled_path=config.LABELLED_PATH, file_count=4, difficulty_curve_interval=5)"
   ]
  },
  {
   "cell_type": "code",
   "execution_count": null,
   "metadata": {},
   "outputs": [],
   "source": [
    "import utility\n",
    "import numpy as np\n",
    "\n",
    "param_name_list = [\"map_size\", \"enemy_count\", \"treasure_count\", \"room_count\"]\n",
    "\n",
    "labelled_data_list = utility.load_json_files(config.LABELLED_PATH)\n",
    "\n",
    "mean_dict = dict()\n",
    "std_dict = dict()\n",
    "\n",
    "for param_name in param_name_list:\n",
    "    value_list = np.array([data[\"params\"][param_name] for data in labelled_data_list])\n",
    "    mean_dict[param_name] = np.mean(value_list, axis=0)\n",
    "    std_dict[param_name] = np.std(value_list, axis=0)\n",
    "\n",
    "print(mean_dict)\n",
    "print(std_dict)"
   ]
  },
  {
   "cell_type": "code",
   "execution_count": null,
   "metadata": {},
   "outputs": [],
   "source": [
    "# Generate preprocessed\n",
    "from preprocessed_data_generator import generate_preprocessed_data\n",
    "\n",
    "generate_preprocessed_data(data_count, example_count, prompt_style)"
   ]
  },
  {
   "cell_type": "code",
   "execution_count": null,
   "metadata": {},
   "outputs": [],
   "source": [
    "# Run comparator.py\n",
    "import comparator\n",
    "\n",
    "comparator.compare(preprocessed_path=config.PREPROCESSED_PATH, compared_path=config.COMPARED_PATH, file_count=83)"
   ]
  },
  {
   "cell_type": "code",
   "execution_count": null,
   "metadata": {},
   "outputs": [],
   "source": [
    "# Calculate statistics\n",
    "import statistician\n",
    "\n",
    "diff_param_name_list = [\n",
    "    \"map_size\",\n",
    "    \"room_count\",\n",
    "    \"enemy_count\",\n",
    "    \"treasure_count\",\n",
    "]\n",
    "\n",
    "after_param_name_list = [\"playability\", \"other_ASCII_count\", \"empty_validation\"]\n",
    "\n",
    "abs_diff_mean, abs_diff_std = statistician.calc_abs_diff_mean_std(param_name_list=diff_param_name_list)\n",
    "after_mean, after_std = statistician.calc_after_mean_std(param_name_list=after_param_name_list)"
   ]
  },
  {
   "cell_type": "code",
   "execution_count": null,
   "metadata": {},
   "outputs": [],
   "source": [
    "# Draw Graph\n",
    "mean_dict = abs_diff_mean | after_mean\n",
    "std_dict = abs_diff_std | after_std\n",
    "\n",
    "mean_dict[\"map_width\"] = mean_dict[\"map_size\"][0]\n",
    "mean_dict[\"map_height\"] = mean_dict[\"map_size\"][1]\n",
    "\n",
    "std_dict[\"map_width\"] = std_dict[\"map_size\"][0]\n",
    "std_dict[\"map_height\"] = std_dict[\"map_size\"][1]\n",
    "\n",
    "del mean_dict[\"map_size\"]\n",
    "del std_dict[\"map_size\"]\n",
    "\n",
    "print(mean_dict)\n",
    "print(std_dict)\n",
    "statistician.draw_graph(mean_dict, std_dict)"
   ]
  },
  {
   "cell_type": "code",
   "execution_count": null,
   "metadata": {},
   "outputs": [],
   "source": [
    "# Calculate novelty and diversity\n",
    "novelty = statistician.calc_novelty()\n",
    "print(novelty)"
   ]
  },
  {
   "cell_type": "code",
   "execution_count": null,
   "metadata": {},
   "outputs": [],
   "source": [
    "# Calculate diversity\n",
    "diversity = statistician.calc_diversity()\n",
    "print(diversity)"
   ]
  },
  {
   "cell_type": "code",
   "execution_count": null,
   "metadata": {},
   "outputs": [],
   "source": [
    "import labeler\n",
    "\n",
    "data_list= labeler.load_folder(path=config.PREPROCESSED_PATH, file_count=84)\n",
    "data_count = 0\n",
    "\n",
    "for i, data_i in enumerate(data_list):\n",
    "    data_count += len(data_i[\"map_list\"])\n",
    "\n",
    "print(data_count)"
   ]
  }
 ],
 "metadata": {
  "kernelspec": {
   "display_name": "ugrp_env",
   "language": "python",
   "name": "python3"
  },
  "language_info": {
   "codemirror_mode": {
    "name": "ipython",
    "version": 3
   },
   "file_extension": ".py",
   "mimetype": "text/x-python",
   "name": "python",
   "nbconvert_exporter": "python",
   "pygments_lexer": "ipython3",
   "version": "3.10.14"
  }
 },
 "nbformat": 4,
 "nbformat_minor": 2
}
