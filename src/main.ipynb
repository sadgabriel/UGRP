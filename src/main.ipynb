{
 "cells": [
  {
   "cell_type": "code",
   "execution_count": 59,
   "metadata": {},
   "outputs": [],
   "source": [
    "# Configs\n",
    "PROMPT_STYLE = 'AutoCOT1'\n",
    "\n",
    "raw_path = '../data/1. raw/'\n",
    "placed_path = '../data/2. placed/'\n",
    "labeled_path = '../data/3. labelled/'\n",
    "prompt_path = '../data/4. prompt/'\n",
    "preprocessed_path = '../data/5. preprocessed/'\n",
    "compared_path = '../data/6. compared/'\n",
    "\n",
    "base_prompt_path = prompt_path + f'base_prompt/{PROMPT_STYLE}.txt'\n",
    "prompt_file_path = prompt_path + f'{PROMPT_STYLE}.txt'\n",
    "unstructured_data_path = preprocessed_path + f'unstructured_data/{PROMPT_STYLE}.txt'"
   ]
  },
  {
   "cell_type": "code",
   "execution_count": 60,
   "metadata": {},
   "outputs": [
    {
     "data": {
      "text/plain": [
       "CompletedProcess(args=['node', 'generator.js', '200', '200'], returncode=0)"
      ]
     },
     "execution_count": 60,
     "metadata": {},
     "output_type": "execute_result"
    }
   ],
   "source": [
    "# Run generator.js\n",
    "import subprocess\n",
    "\n",
    "params = [\"200\", \"200\"] # Enter the number of data. each prameter indicate the number of small, large map.\n",
    "\n",
    "subprocess.run([\"node\", \"generator.js\"] + params)"
   ]
  },
  {
   "cell_type": "code",
   "execution_count": 61,
   "metadata": {},
   "outputs": [],
   "source": [
    "# Run placer.py\n",
    "import placer\n",
    "\n",
    "maps = placer.load_maps(path=raw_path)\n",
    "for map in maps:\n",
    "    placer.assign_parameters(map, enemy_density=0.05, cohesion=0.3, reward_density=0.01, range_multiplier=2, boss=True)\n",
    "    placer.modify_map(map, group_min_dist=10, flag_try_count=50, enemy_sparsity=3)\n",
    "placer.save_maps(maps, path=placed_path)"
   ]
  },
  {
   "cell_type": "code",
   "execution_count": 62,
   "metadata": {},
   "outputs": [],
   "source": [
    "# Run labeler.py\n",
    "import labeler\n",
    "\n",
    "labeler.label(file_num=1, difficulty_curve_interval=5)"
   ]
  },
  {
   "cell_type": "code",
   "execution_count": 63,
   "metadata": {},
   "outputs": [
    {
     "name": "stdout",
     "output_type": "stream",
     "text": [
      "Complete prompt saved to ../data/4. prompt/AutoCOT1.txt\n"
     ]
    }
   ],
   "source": [
    "# Generate prompt\n",
    "import prompt_generator\n",
    "\n",
    "example_count = 10\n",
    "params = {\n",
    "    'MAP_SIZE': [20, 20],\n",
    "    'ROOM_COUNT': 7,\n",
    "    'ENEMY_COUNT': 2,\n",
    "    'TREASURE_COUNT': 1\n",
    "}\n",
    "\n",
    "with open(base_prompt_path, 'r') as file:\n",
    "    content = file.read()\n",
    "\n",
    "    start_prompt, end_prompt = prompt_generator.split_prompts(content)\n",
    "    example = prompt_generator.load_examples_from_folder(labeled_path, example_count)\n",
    "\n",
    "    complete_prompt = start_prompt + example + prompt_generator.format_parameters(params) + end_prompt\n",
    "\n",
    "    with open(prompt_file_path, 'w', encoding='utf-8') as file:\n",
    "        file.write(complete_prompt)\n",
    "\n",
    "    print(f'Complete prompt saved to {prompt_file_path}')"
   ]
  },
  {
   "cell_type": "code",
   "execution_count": 64,
   "metadata": {},
   "outputs": [
    {
     "name": "stderr",
     "output_type": "stream",
     "text": [
      "Traceback (most recent call last):\n",
      "  File \"/home/mintghost/Files/Project/UGRP/src/unstructured_data_generator.py\", line 10, in <module>\n",
      "    response = openai.Completion.create(\n",
      "  File \"/home/mintghost/anaconda3/envs/ugrp_env/lib/python3.10/site-packages/openai/lib/_old_api.py\", line 39, in __call__\n",
      "    raise APIRemovedInV1(symbol=self._symbol)\n",
      "openai.lib._old_api.APIRemovedInV1: \n",
      "\n",
      "You tried to access openai.Completion, but this is no longer supported in openai>=1.0.0 - see the README at https://github.com/openai/openai-python for the API.\n",
      "\n",
      "You can run `openai migrate` to automatically upgrade your codebase to use the 1.0.0 interface. \n",
      "\n",
      "Alternatively, you can pin your installation to the old version, e.g. `pip install openai==0.28`\n",
      "\n",
      "A detailed migration guide is available here: https://github.com/openai/openai-python/discussions/742\n",
      "\n"
     ]
    },
    {
     "data": {
      "text/plain": [
       "CompletedProcess(args=['python', 'unstructured_data_generator.py'], returncode=1)"
      ]
     },
     "execution_count": 64,
     "metadata": {},
     "output_type": "execute_result"
    }
   ],
   "source": [
    "# Run GPT\n",
    "subprocess.run([\"python\", \"unstructured_data_generator.py\"])"
   ]
  },
  {
   "cell_type": "code",
   "execution_count": 65,
   "metadata": {},
   "outputs": [
    {
     "name": "stdout",
     "output_type": "stream",
     "text": [
      "Start or end index not found.\n",
      "Extracted ASCII Art:\n",
      "\n"
     ]
    },
    {
     "data": {
      "text/plain": [
       "CompletedProcess(args=['python', 'preprocesser.py'], returncode=0)"
      ]
     },
     "execution_count": 65,
     "metadata": {},
     "output_type": "execute_result"
    }
   ],
   "source": [
    "# Preprocess\n",
    "subprocess.run([\"python\", \"preprocesser.py\"])"
   ]
  },
  {
   "cell_type": "code",
   "execution_count": 66,
   "metadata": {},
   "outputs": [],
   "source": [
    "# Run comparator.py\n",
    "import comparator\n",
    "\n",
    "comparator.compare(file_num=1)"
   ]
  },
  {
   "cell_type": "code",
   "execution_count": 67,
   "metadata": {},
   "outputs": [],
   "source": [
    "# Get compared file\n",
    "import os\n",
    "import json\n",
    "\n",
    "path = os.path.join(os.path.dirname(os.getcwd()), \"data\", \"6. compared\")\n",
    "\n",
    "filename_list = [\n",
    "    filename\n",
    "    for filename in os.listdir(path)\n",
    "    if filename.endswith(\".json\") and os.path.isfile(os.path.join(path, filename))\n",
    "]\n",
    "\n",
    "path_list = [os.path.join(path, filename) for filename in filename_list]\n",
    "\n",
    "compared_list = list()\n",
    "for file_path in path_list:\n",
    "    with open(file_path, \"r\") as file:\n",
    "        compared_batch = json.load(file)\n",
    "        for compared in compared_batch[\"map_list\"]:\n",
    "            compared_list.append(compared)"
   ]
  },
  {
   "cell_type": "code",
   "execution_count": 68,
   "metadata": {},
   "outputs": [],
   "source": [
    "# Calculate difference\n",
    "diff_dict = dict()\n",
    "\n",
    "params = [\n",
    "    \"map_size\",\n",
    "    \"density\",\n",
    "    \"empty_ratio\",\n",
    "    \"exploration_requirement\",\n",
    "    \"difficulty_curve\",\n",
    "    \"nonlinearity\"\n",
    "]\n",
    "\n",
    "for param in params:\n",
    "    diff_dict[param] = list()\n",
    "\n",
    "for compared in compared_list:\n",
    "    for param in params:\n",
    "        try:\n",
    "            diff_dict[param].append([abs(float(compared[\"after_params\"][param][i]) - float(compared[\"before_params\"][param][i])) for i in range(len(compared[\"after_params\"][param]))])\n",
    "        except:\n",
    "            diff_dict[param].append(abs(float(compared[\"after_params\"][param]) - float(compared[\"before_params\"][param])))"
   ]
  },
  {
   "cell_type": "code",
   "execution_count": 69,
   "metadata": {},
   "outputs": [],
   "source": [
    "# Calculate mean and standard deviation\n",
    "import numpy as np\n",
    "\n",
    "mean_dict = dict()\n",
    "std_dict = dict()\n",
    "\n",
    "for param in params:\n",
    "    try:\n",
    "        mean_dict[param] = np.mean(np.array(diff_dict[param]), axis=0)\n",
    "        std_dict[param] = np.std(np.array(diff_dict[param]), axis=0)\n",
    "    except:\n",
    "        mean_dict[param] = np.mean(diff_dict[param])\n",
    "        std_dict[param] = np.std(diff_dict[param])"
   ]
  },
  {
   "cell_type": "code",
   "execution_count": 70,
   "metadata": {},
   "outputs": [
    {
     "name": "stdout",
     "output_type": "stream",
     "text": [
      "{'map_size': array([11., 11.]), 'density': 0.004152762328513162, 'empty_ratio': 0.09090347299468543, 'exploration_requirement': 29.0, 'difficulty_curve': 0.0, 'nonlinearity': 0.21704750661510275}\n",
      "{'map_size': array([0., 0.]), 'density': 0.0, 'empty_ratio': 0.0, 'exploration_requirement': 0.0, 'difficulty_curve': 0.0, 'nonlinearity': 0.0}\n"
     ]
    }
   ],
   "source": [
    "# Print mean and standard deviation\n",
    "print(mean_dict)\n",
    "print(std_dict)"
   ]
  }
 ],
 "metadata": {
  "kernelspec": {
   "display_name": "ugrp_env",
   "language": "python",
   "name": "python3"
  },
  "language_info": {
   "codemirror_mode": {
    "name": "ipython",
    "version": 3
   },
   "file_extension": ".py",
   "mimetype": "text/x-python",
   "name": "python",
   "nbconvert_exporter": "python",
   "pygments_lexer": "ipython3",
   "version": "3.10.14"
  }
 },
 "nbformat": 4,
 "nbformat_minor": 2
}
