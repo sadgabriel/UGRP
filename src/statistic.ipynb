{
 "cells": [
  {
   "cell_type": "code",
   "execution_count": null,
   "metadata": {},
   "outputs": [],
   "source": [
    "import os\n",
    "\n",
    "import numpy as np\n",
    "\n",
    "import season1.statistician as stat\n",
    "import season1.utility as util\n",
    "from season1.validater import get_label\n",
    "\n",
    "def transform_data_block_to_compared(data_block):\n",
    "    return {\n",
    "        \"map\": data_block[\"map\"],\n",
    "        \"example_maps\": data_block[\"examples\"],\n",
    "        \"before_params\": data_block[\"target_params\"],\n",
    "        \"after_params\": get_label(data_block[\"map\"])\n",
    "    }\n",
    "\n",
    "def generate_filename_from_used_paramname(used_paramname, recursion_count):\n",
    "    filename = \"\"\n",
    "    for param in used_paramname:\n",
    "        filename += param\n",
    "        filename += \"_\"\n",
    "    filename += str(recursion_count)\n",
    "    return filename\n",
    "\n",
    "def calc_controllability(compared_list, used_paramname):\n",
    "    controllability = {}\n",
    "    \n",
    "    for paramname in used_paramname:\n",
    "        values = []\n",
    "        \n",
    "        for compared in compared_list:\n",
    "            before = compared[\"before_params\"][paramname]\n",
    "            after = compared[\"after_params\"][paramname]\n",
    "            values.append(abs(before - after) / max(before, after))\n",
    "        \n",
    "        controllability[paramname] = np.average(values)\n",
    "    \n",
    "    return controllability\n",
    "            "
   ]
  },
  {
   "cell_type": "code",
   "execution_count": null,
   "metadata": {},
   "outputs": [],
   "source": [
    "result_dir = os.path.join(\"..\", \"data\", \"result\")\n",
    "paramname_list = [\"map_size\", \"room_count\", \"enemy_count\", \"treasure_count\", \"exploration\", \"winding_path\"]"
   ]
  },
  {
   "cell_type": "code",
   "execution_count": null,
   "metadata": {},
   "outputs": [],
   "source": [
    "controllability_data = [{}] * 6\n",
    "\n",
    "for i in range(6):\n",
    "    for paramname in paramname_list:\n",
    "        used_paramname = [paramname]\n",
    "        filename = generate_filename_from_used_paramname(used_paramname, i)\n",
    "        \n",
    "        data_blocks = util.read_json_file(os.path.join(result_dir, filename))\n",
    "        compared_list = map(transform_data_block_to_compared, data_blocks)\n",
    "        controllability_data[i][filename] = calc_controllability(compared_list, used_paramname)\n",
    "        "
   ]
  }
 ],
 "metadata": {
  "kernelspec": {
   "display_name": "ugrp_env",
   "language": "python",
   "name": "python3"
  },
  "language_info": {
   "codemirror_mode": {
    "name": "ipython",
    "version": 3
   },
   "file_extension": ".py",
   "mimetype": "text/x-python",
   "name": "python",
   "nbconvert_exporter": "python",
   "pygments_lexer": "ipython3",
   "version": "3.10.14"
  }
 },
 "nbformat": 4,
 "nbformat_minor": 2
}
