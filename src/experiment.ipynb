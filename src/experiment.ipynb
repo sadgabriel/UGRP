{
 "cells": [
  {
   "cell_type": "code",
   "execution_count": null,
   "metadata": {},
   "outputs": [],
   "source": [
    "# import modules\n",
    "import os\n",
    "import asyncio\n",
    "import nest_asyncio\n",
    "import time\n",
    "\n",
    "import season1.utility as util\n",
    "import data_utility\n",
    "import async_llm\n",
    "\n",
    "from season1.validater import get_label\n",
    "\n",
    "\n",
    "from season1.prompt_generator import generate_prompt\n",
    "from season1.preprocessor import preprocess"
   ]
  },
  {
   "cell_type": "code",
   "execution_count": null,
   "metadata": {},
   "outputs": [],
   "source": [
    "# functions\n",
    "def generate_examples(example_list, used_paramname):\n",
    "    examples = \"\\n\"\n",
    "    for idx, data in enumerate(example_list):       \n",
    "        examples += \"Example \" + str(idx + 1) + \":\\nMap:\\n\"\n",
    "        examples += data[\"map\"]\n",
    "        examples += \"Parameters:\\n\"\n",
    "        for param in used_paramname:\n",
    "            examples += \"- \" + param + \": \" + str(data[\"params\"][param]) + \"\\n\"\n",
    "        examples += \"\\n\"\n",
    "    return examples\n",
    "\n",
    "\n",
    "def generate_filename_from_used_paramname(used_paramname, recursion_count):\n",
    "    filename = \"\"\n",
    "    for param in used_paramname:\n",
    "        filename += param\n",
    "        filename += \"_\"\n",
    "    filename += str(recursion_count)\n",
    "    return filename\n",
    "    \n",
    "    \n",
    "def generate_parameters_to_modify(used_paramname, current_params, target_params):\n",
    "    text = \"Current and Target Parameter values:\\n\"\n",
    "    \n",
    "    for paramname in used_paramname:\n",
    "        text += \"current \" + paramname + \": \" + str(current_params[paramname]) + \"\\n\"\n",
    "        text += \"target \" + paramname + \": \" + str(target_params[paramname]) + \"\\n\"\n",
    "    \n",
    "    return text\n",
    "    "
   ]
  },
  {
   "cell_type": "code",
   "execution_count": null,
   "metadata": {},
   "outputs": [],
   "source": [
    "# setting\n",
    "used_paramname = [\"map_size\"] # Select one, two, or six from map_size, room_count, enemy_count, treasure_count, exploraion, winding_path\n",
    "max_recursion_count = 5\n",
    "\n",
    "result_dir = os.path.join(\"..\", \"data\", \"result\") \n",
    "map_data_path = os.path.join(\"..\", \"data\", \"DemoMapDataset.json\")\n",
    "target_param_path = os.path.join(\"..\", \"data\", \"TargetParameterDataset.json\")\n",
    "base_prompt_dir = os.path.join(\"..\", \"src\", \"base_prompt\")"
   ]
  },
  {
   "cell_type": "code",
   "execution_count": null,
   "metadata": {},
   "outputs": [],
   "source": [
    "# load dataset\n",
    "map_dataset = util.read_json_file(map_data_path)\n",
    "param_dataset = util.read_json_file(target_param_path)\n",
    "param_dataset = param_dataset[\"param_list\"]"
   ]
  },
  {
   "cell_type": "code",
   "execution_count": null,
   "metadata": {},
   "outputs": [],
   "source": [
    "# create preparation prompt\n",
    "preparation_templete = util.read_text_file(os.path.join(base_prompt_dir, \"PreparationPhaseTemplete.txt\"))\n",
    "\n",
    "map_description = util.read_text_file(os.path.join(base_prompt_dir, \"MapDescription.txt\"))\n",
    "preparation_templete = preparation_templete.replace(\"{MapDescription}\", map_description)\n",
    "\n",
    "preparation_prompts = []\n",
    "for param in used_paramname:\n",
    "    param_description = util.read_text_file(os.path.join(base_prompt_dir, param + \".txt\"))\n",
    "    \n",
    "    example_list = data_utility.get_demos_from_map_dataset(map_dataset, [param])\n",
    "    examples = generate_examples(example_list, used_paramname)\n",
    "\n",
    "    parameters = util.read_text_file(os.path.join(base_prompt_dir, \"ParameterTemplete.txt\"))\n",
    "    parameters = parameters.replace(\"{ParameterDescription}\", param_description)\n",
    "    parameters = parameters.replace(\"{Examples}\", examples)\n",
    "    \n",
    "    preparation_prompts.append(preparation_templete.replace(\"{Parameters}\", parameters).replace(\"{ParameterName}\", param))"
   ]
  },
  {
   "cell_type": "code",
   "execution_count": null,
   "metadata": {},
   "outputs": [],
   "source": [
    "# preparation phase\n",
    "system_prompts = [\"\"\"\n",
    "You are an expert in analyzing and modifying ASCII dungeon maps based on given parameters. Your task is to help users understand how various parameters affect the layout of the map and to provide step-by-step instructions on how to modify the map to achieve a target parameter value. Ensure that your explanations are clear and structured, and that you provide logical reasoning for each modification. You will also describe both how to increase and decrease specific parameter values.\n",
    "\"\"\"] * len(preparation_prompts)\n",
    "\n",
    "nest_asyncio.apply()\n",
    "\n",
    "preparation_outputs = asyncio.run(async_llm.generate_unstructured_datas(system_prompts, preparation_prompts))"
   ]
  },
  {
   "cell_type": "code",
   "execution_count": null,
   "metadata": {},
   "outputs": [],
   "source": [
    "# create modification prompt templete\n",
    "modification_template = util.read_text_file(os.path.join(base_prompt_dir, \"ModificationPhaseTemplete.txt\"))\n",
    "modification_template = modification_template.replace(\"{MapDescription}\", map_description)\n",
    "\n",
    "parameters = util.read_text_file(os.path.join(base_prompt_dir, \"ParameterTemplete.txt\"))\n",
    "\n",
    "param_description = \"\"\n",
    "for param in used_paramname:\n",
    "    param_description += util.read_text_file(os.path.join(base_prompt_dir, param + \".txt\")) + '\\n'\n",
    "\n",
    "parameters = parameters.replace(\"{ParameterDescription}\", param_description)\n",
    "\n",
    "modification_template = modification_template.replace(\"{Parameters}\", parameters)\n",
    "\n",
    "preparation_output = \"\\n\".join(preparation_outputs)\n",
    "\n",
    "modification_template = modification_template.replace(\"{PreparationOutput}\", preparation_output)"
   ]
  },
  {
   "cell_type": "code",
   "execution_count": null,
   "metadata": {},
   "outputs": [],
   "source": [
    "# create initial prompt\n",
    "system_prompts = []\n",
    "user_prompts = []\n",
    "used_examples = []\n",
    "used_params = []\n",
    "for params in param_dataset:\n",
    "    example_list = data_utility.get_demos_from_map_dataset(map_dataset, used_paramname)\n",
    "    examples = generate_examples(example_list, used_paramname)\n",
    "    \n",
    "    system, user = generate_prompt(examples, params, \"AutoCOT2\")\n",
    "    system_prompts.append(system)\n",
    "    user_prompts.append(user)\n",
    "    used_examples.append(example_list)\n",
    "    used_params.append(params)"
   ]
  },
  {
   "cell_type": "code",
   "execution_count": null,
   "metadata": {},
   "outputs": [],
   "source": [
    "# initial creation phase\n",
    "\n",
    "size = len(system_prompts)\n",
    "\n",
    "start_time = time.time()\n",
    "\n",
    "initial_outputs = asyncio.run(async_llm.generate_unstructured_datas(system_prompts[:size], user_prompts[:size]))\n",
    "preprocessed_outputs = list(map(preprocess, initial_outputs))\n",
    "\n",
    "elapsed_time = time.time() - start_time\n",
    "if elapsed_time < 65:\n",
    "    time.sleep(65 - elapsed_time)"
   ]
  },
  {
   "cell_type": "code",
   "execution_count": null,
   "metadata": {},
   "outputs": [],
   "source": [
    "# make block\n",
    "data_blocks = []\n",
    "for i in range(len(preprocessed_outputs)):\n",
    "    data_blocks.append({\n",
    "        \"target_params\": used_params[i],\n",
    "        \"map\": preprocessed_outputs[i],\n",
    "        \"examples\": used_examples[i]\n",
    "    })"
   ]
  },
  {
   "cell_type": "code",
   "execution_count": null,
   "metadata": {},
   "outputs": [],
   "source": [
    "# save initial outputs\n",
    "util.create_directory(result_dir)\n",
    "file_path = os.path.join(result_dir, generate_filename_from_used_paramname(used_paramname, 0))\n",
    "\n",
    "util.write_json_file(file_path, data_blocks)"
   ]
  },
  {
   "cell_type": "code",
   "execution_count": null,
   "metadata": {},
   "outputs": [],
   "source": [
    "# recursion and save outputs\n",
    "\n",
    "system_prompts = [\"\"\"\n",
    "You are an expert in analyzing and modifying ASCII dungeon maps based on given parameters. Your task is to modify an ASCII dungeon map to adjust several of its parameters. You will be provided with the current and target values for one or more parameters, along with a original map. Your goal is to transform the map to meet the target values for all provided parameters.\n",
    "\"\"\"] * len(data_blocks)\n",
    "\n",
    "for recursion_count in range(1, max_recursion_count + 1):\n",
    "    modification_prompts = []\n",
    "    \n",
    "    start_time = time.time()\n",
    "\n",
    "    for i in range(len(data_blocks)):\n",
    "        modification_prompt = modification_template.replace(\"{Examples}\", generate_examples(data_blocks[i][\"examples\"], used_paramname))\n",
    "        modification_prompt = modification_prompt.replace(\"{Map}\", data_blocks[i][\"map\"])\n",
    "        \n",
    "        current_params = get_label(data_blocks[i][\"map\"])\n",
    "        target_params = data_blocks[i][\"target_params\"]\n",
    "        \n",
    "        modification_prompt = modification_prompt.replace(\"{ParametersToModify}\", generate_parameters_to_modify(used_paramname, current_params, target_params))\n",
    "        \n",
    "        modification_prompts.append(modification_prompt)\n",
    "\n",
    "    recursion_outputs = asyncio.run(async_llm.generate_unstructured_datas(system_prompts, modification_prompts))\n",
    "    preprocessed_outputs = list(map(preprocess, recursion_outputs))\n",
    "\n",
    "    for i in range(len(data_blocks)):\n",
    "        data_blocks[i][\"map\"] = preprocessed_outputs[i]\n",
    "\n",
    "    util.create_directory(result_dir)\n",
    "    file_path = os.path.join(result_dir, generate_filename_from_used_paramname(used_paramname, recursion_count))\n",
    "    util.write_json_file(file_path, data_blocks)\n",
    "    \n",
    "    print(f\"recursion {recursion_count} successfully performed\")\n",
    "    \n",
    "    elapsed_time = time.time() - start_time\n",
    "    if elapsed_time < 65:\n",
    "        time.sleep(65 - elapsed_time)"
   ]
  }
 ],
 "metadata": {
  "kernelspec": {
   "display_name": "ugrp_env",
   "language": "python",
   "name": "python3"
  },
  "language_info": {
   "codemirror_mode": {
    "name": "ipython",
    "version": 3
   },
   "file_extension": ".py",
   "mimetype": "text/x-python",
   "name": "python",
   "nbconvert_exporter": "python",
   "pygments_lexer": "ipython3",
   "version": "3.10.14"
  }
 },
 "nbformat": 4,
 "nbformat_minor": 2
}
