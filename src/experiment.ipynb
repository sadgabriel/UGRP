{
 "cells": [
  {
   "cell_type": "code",
   "execution_count": null,
   "metadata": {},
   "outputs": [],
   "source": [
    "# import modules\n",
    "import os\n",
    "import asyncio\n",
    "import nest_asyncio\n",
    "\n",
    "import season1.utility as util\n",
    "import data_utility\n",
    "import async_llm\n",
    "\n",
    "from season1.prompt_generator import generate_prompt\n",
    "from season1.preprocessor import preprocess"
   ]
  },
  {
   "cell_type": "code",
   "execution_count": null,
   "metadata": {},
   "outputs": [],
   "source": [
    "# functions\n",
    "def generate_examples(example_list, target_params):\n",
    "    examples = \"\\n\"\n",
    "    for idx, data in enumerate(example_list):       \n",
    "        examples += \"Example \" + str(idx + 1) + \":\\nMap:\\n\"\n",
    "        examples += data[\"map\"]\n",
    "        examples += \"Parameters:\\n\"\n",
    "        for param in target_params:\n",
    "            examples += \"- \" + param + \": \" + str(data[\"params\"][param]) + \"\\n\"\n",
    "        examples += \"\\n\"\n",
    "    return examples"
   ]
  },
  {
   "cell_type": "code",
   "execution_count": null,
   "metadata": {},
   "outputs": [],
   "source": [
    "# setting\n",
    "target_params = [\"map_size\", \"room_count\", \"enemy_count\", \"treasure_count\", \"exploration\", \"winding_path\"] # Select one, two, or six from map_size, room_count, enemy_count, treasure_count, exploraion, winding_path\n",
    "recursion_count = 5\n",
    "\n",
    "dir_name = \"\"\n",
    "for param in target_params:\n",
    "    dir_name += param\n",
    "    dir_name += \"_\"\n",
    "dir_name += str(recursion_count)\n",
    "\n",
    "result_dir = os.path.join(\"..\", \"data\", \"result\", dir_name) \n",
    "map_data_path = os.path.join(\"..\", \"data\", \"DemoMapDataset.json\")\n",
    "target_param_path = os.path.join(\"..\", \"data\", \"TargetParameterDataset.json\")\n",
    "base_prompt_dir = os.path.join(\"..\", \"src\", \"base_prompt\")"
   ]
  },
  {
   "cell_type": "code",
   "execution_count": null,
   "metadata": {},
   "outputs": [],
   "source": [
    "# load dataset\n",
    "map_dataset = util.read_json_file(map_data_path)\n",
    "param_dataset = util.read_json_file(target_param_path)\n",
    "param_dataset = param_dataset[\"param_list\"]"
   ]
  },
  {
   "cell_type": "code",
   "execution_count": null,
   "metadata": {},
   "outputs": [],
   "source": [
    "# create preparation prompt\n",
    "preparation_templete = util.read_text_file(os.path.join(base_prompt_dir, \"PreparationPhaseTemplete.txt\"))\n",
    "\n",
    "map_description = util.read_text_file(os.path.join(base_prompt_dir, \"MapDescription.txt\"))\n",
    "preparation_templete = preparation_templete.replace(\"{MapDescription}\", map_description)\n",
    "\n",
    "preparation_prompts = []\n",
    "for param in target_params:\n",
    "    param_description = util.read_text_file(os.path.join(base_prompt_dir, param + \".txt\"))\n",
    "    \n",
    "    example_list = data_utility.get_demos_from_map_dataset(map_dataset, [param])\n",
    "    examples = generate_examples(example_list, target_params)\n",
    "\n",
    "    parameters = util.read_text_file(os.path.join(base_prompt_dir, \"ParameterTemplete.txt\"))\n",
    "    parameters = parameters.replace(\"{ParameterDescription}\", param_description)\n",
    "    parameters = parameters.replace(\"{Examples}\", examples)\n",
    "    \n",
    "    preparation_prompts.append(preparation_templete.replace(\"{Parameters}\", parameters))"
   ]
  },
  {
   "cell_type": "code",
   "execution_count": null,
   "metadata": {},
   "outputs": [],
   "source": [
    "# preparation phase\n",
    "system_prompt = \"\"\"\n",
    "You are an expert in analyzing and modifying ASCII dungeon maps based on given parameters. Your task is to help users understand how various parameters affect the layout of the map and to provide step-by-step instructions on how to modify the map to achieve a target parameter value. Ensure that your explanations are clear and structured, and that you provide logical reasoning for each modification. You will also describe both how to increase and decrease specific parameter values.\n",
    "\"\"\"\n",
    "\n",
    "nest_asyncio.apply()\n",
    "\n",
    "preparation_outputs = asyncio.run(async_llm.generate_unstructured_datas(system_prompt, preparation_prompts))"
   ]
  },
  {
   "cell_type": "code",
   "execution_count": null,
   "metadata": {},
   "outputs": [],
   "source": [
    "# create modification prompt templete\n",
    "modification_templete = util.read_text_file(os.path.join(base_prompt_dir, \"ModificationPhaseTemplete.txt\"))\n",
    "modification_templete = modification_templete.replace(\"{MapDescription}\", map_description)\n",
    "\n",
    "parameters = util.read_text_file(os.path.join(base_prompt_dir, \"ParameterTemplete.txt\"))\n",
    "\n",
    "param_description = \"\"\n",
    "for param in target_params:\n",
    "    param_description += util.read_text_file(os.path.join(base_prompt_dir, param + \".txt\")) + '\\n'\n",
    "\n",
    "parameters = parameters.replace(\"{ParameterDescription}\", param_description)\n",
    "parameters = parameters.replace(\"{Examples}\", examples)\n",
    "\n",
    "modification_templete = modification_templete.replace(\"{Parameters}\", parameters)\n",
    "\n",
    "preparation_output = \"\\n\".join(preparation_outputs)\n",
    "\n",
    "modification_templete = modification_templete.replace(\"{PreparationOutput}\", preparation_output)"
   ]
  },
  {
   "cell_type": "code",
   "execution_count": null,
   "metadata": {},
   "outputs": [],
   "source": [
    "# create initial prompt\n",
    "user_prompts = []\n",
    "used_examples = []\n",
    "used_params = []\n",
    "for params in param_dataset:\n",
    "    example_list = data_utility.get_demos_from_map_dataset(map_dataset, target_params)\n",
    "    examples = generate_examples(example_list, target_params)\n",
    "    \n",
    "    system_prompt, user = generate_prompt(examples, params, \"AutoCOT2\")\n",
    "    user_prompts.append(user)\n",
    "    used_examples.append(example_list)\n",
    "    used_params.append(params)"
   ]
  },
  {
   "cell_type": "code",
   "execution_count": null,
   "metadata": {},
   "outputs": [],
   "source": [
    "# initial creation phase\n",
    "#initial_outputs = asyncio.run(async_llm.generate_unstructured_datas(system_prompt, user_prompts))\n",
    "initial_outputs = [\"\"] * 1000"
   ]
  },
  {
   "cell_type": "code",
   "execution_count": null,
   "metadata": {},
   "outputs": [],
   "source": [
    "# preprocess initial outputs\n",
    "preprocessed_outputs = list(map(preprocess, initial_outputs))"
   ]
  },
  {
   "cell_type": "code",
   "execution_count": null,
   "metadata": {},
   "outputs": [],
   "source": [
    "# make block\n",
    "data_blocks = []\n",
    "for i in range(1000):\n",
    "    data_blocks.append({\n",
    "        \"params\": used_params[i],\n",
    "        \"map\": preprocessed_outputs[i],\n",
    "        \"examples\": used_examples[i]\n",
    "    })"
   ]
  },
  {
   "cell_type": "code",
   "execution_count": null,
   "metadata": {},
   "outputs": [],
   "source": []
  }
 ],
 "metadata": {
  "kernelspec": {
   "display_name": "ugrp_env",
   "language": "python",
   "name": "python3"
  },
  "language_info": {
   "codemirror_mode": {
    "name": "ipython",
    "version": 3
   },
   "file_extension": ".py",
   "mimetype": "text/x-python",
   "name": "python",
   "nbconvert_exporter": "python",
   "pygments_lexer": "ipython3",
   "version": "3.10.14"
  }
 },
 "nbformat": 4,
 "nbformat_minor": 2
}
